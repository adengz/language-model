{
 "cells": [
  {
   "cell_type": "code",
   "execution_count": 1,
   "metadata": {},
   "outputs": [
    {
     "data": {
      "text/plain": [
       "<torch._C.Generator at 0x7f0f20798168>"
      ]
     },
     "execution_count": 1,
     "metadata": {},
     "output_type": "execute_result"
    }
   ],
   "source": [
    "from functools import partial\n",
    "\n",
    "import torch\n",
    "import pandas as pd\n",
    "from data import Vocabulary, BobSueDataset\n",
    "from models import FullVocabularyModel\n",
    "from learner import LanguageModelLearner\n",
    "\n",
    "torch.manual_seed(41)"
   ]
  },
  {
   "cell_type": "markdown",
   "metadata": {},
   "source": [
    "## Hyperparameters"
   ]
  },
  {
   "cell_type": "code",
   "execution_count": 2,
   "metadata": {},
   "outputs": [],
   "source": [
    "BATCH_SIZE = 64\n",
    "EMBEDDING_DIM = 200\n",
    "HIDDEN_SIZE = 200\n",
    "DROPOUT = 0.2\n",
    "EPOCHS = 15"
   ]
  },
  {
   "cell_type": "markdown",
   "metadata": {},
   "source": [
    "## Load data"
   ]
  },
  {
   "cell_type": "code",
   "execution_count": 3,
   "metadata": {},
   "outputs": [],
   "source": [
    "FILENAME = 'bobsue.prevsent.{}.tsv'\n",
    "\n",
    "vocab = Vocabulary()\n",
    "\n",
    "train_set = BobSueDataset(FILENAME.format('train'), vocab)\n",
    "valid_set = BobSueDataset(FILENAME.format('dev'), vocab)\n",
    "test_set = BobSueDataset(FILENAME.format('test'), vocab)\n",
    "\n",
    "get_learner = partial(\n",
    "    LanguageModelLearner,\n",
    "    train_set=train_set,\n",
    "    valid_set=valid_set,\n",
    "    test_set=test_set,\n",
    "    batch_size=BATCH_SIZE,\n",
    ")"
   ]
  },
  {
   "cell_type": "markdown",
   "metadata": {},
   "source": [
    "## Utility functions"
   ]
  },
  {
   "cell_type": "code",
   "execution_count": 4,
   "metadata": {},
   "outputs": [],
   "source": [
    "def show_mistakes(mismatches, top=35):\n",
    "    df = pd.DataFrame([item[0] for item in mismatches.most_common(top)], columns=['prediction', 'ground truth'])\n",
    "    return df.applymap(vocab.itos.__getitem__)"
   ]
  },
  {
   "cell_type": "markdown",
   "metadata": {},
   "source": [
    "# Log loss training w/o context"
   ]
  },
  {
   "cell_type": "markdown",
   "metadata": {},
   "source": [
    "## Load model and learner"
   ]
  },
  {
   "cell_type": "code",
   "execution_count": 5,
   "metadata": {},
   "outputs": [],
   "source": [
    "wo_context = FullVocabularyModel(\n",
    "    vocab_size=len(vocab),\n",
    "    embedding_dim=EMBEDDING_DIM,\n",
    "    hidden_size=HIDDEN_SIZE,\n",
    "    dropout=DROPOUT,\n",
    "    read_context=False\n",
    ")\n",
    "learner = get_learner(model=wo_context)"
   ]
  },
  {
   "cell_type": "markdown",
   "metadata": {},
   "source": [
    "## Train model"
   ]
  },
  {
   "cell_type": "code",
   "execution_count": 6,
   "metadata": {
    "scrolled": true
   },
   "outputs": [
    {
     "name": "stderr",
     "output_type": "stream",
     "text": [
      "Epoch 01: 100%|██████████| 95/95 [00:01<00:00, 85.24it/s, Loss=4.83, Acc=0.258] \n"
     ]
    },
    {
     "name": "stdout",
     "output_type": "stream",
     "text": [
      "\tTrain Loss: 5.647\tTrain Acc: 13.15%\n",
      "\tValid Loss: 4.777\tValid Acc: 22.84%\n",
      "\tModel parameters saved to wo_context.pt\n"
     ]
    },
    {
     "name": "stderr",
     "output_type": "stream",
     "text": [
      "Epoch 02: 100%|██████████| 95/95 [00:01<00:00, 78.10it/s, Loss=4.44, Acc=0.238]\n"
     ]
    },
    {
     "name": "stdout",
     "output_type": "stream",
     "text": [
      "\tTrain Loss: 4.538\tTrain Acc: 23.09%\n",
      "\tValid Loss: 4.333\tValid Acc: 24.15%\n",
      "\tModel parameters saved to wo_context.pt\n"
     ]
    },
    {
     "name": "stderr",
     "output_type": "stream",
     "text": [
      "Epoch 03: 100%|██████████| 95/95 [00:01<00:00, 80.76it/s, Loss=4.18, Acc=0.254]\n"
     ]
    },
    {
     "name": "stdout",
     "output_type": "stream",
     "text": [
      "\tTrain Loss: 4.231\tTrain Acc: 24.66%\n",
      "\tValid Loss: 4.108\tValid Acc: 26.28%\n",
      "\tModel parameters saved to wo_context.pt\n"
     ]
    },
    {
     "name": "stderr",
     "output_type": "stream",
     "text": [
      "Epoch 04: 100%|██████████| 95/95 [00:01<00:00, 89.39it/s, Loss=3.9, Acc=0.267] \n"
     ]
    },
    {
     "name": "stdout",
     "output_type": "stream",
     "text": [
      "\tTrain Loss: 4.031\tTrain Acc: 26.43%\n",
      "\tValid Loss: 3.943\tValid Acc: 27.69%\n",
      "\tModel parameters saved to wo_context.pt\n"
     ]
    },
    {
     "name": "stderr",
     "output_type": "stream",
     "text": [
      "Epoch 05: 100%|██████████| 95/95 [00:01<00:00, 81.66it/s, Loss=3.82, Acc=0.284]\n"
     ]
    },
    {
     "name": "stdout",
     "output_type": "stream",
     "text": [
      "\tTrain Loss: 3.866\tTrain Acc: 28.02%\n",
      "\tValid Loss: 3.821\tValid Acc: 28.69%\n",
      "\tModel parameters saved to wo_context.pt\n"
     ]
    },
    {
     "name": "stderr",
     "output_type": "stream",
     "text": [
      "Epoch 06: 100%|██████████| 95/95 [00:01<00:00, 78.24it/s, Loss=3.39, Acc=0.36] \n"
     ]
    },
    {
     "name": "stdout",
     "output_type": "stream",
     "text": [
      "\tTrain Loss: 3.737\tTrain Acc: 29.08%\n",
      "\tValid Loss: 3.727\tValid Acc: 29.77%\n",
      "\tModel parameters saved to wo_context.pt\n"
     ]
    },
    {
     "name": "stderr",
     "output_type": "stream",
     "text": [
      "Epoch 07: 100%|██████████| 95/95 [00:01<00:00, 87.60it/s, Loss=3.56, Acc=0.333]\n"
     ]
    },
    {
     "name": "stdout",
     "output_type": "stream",
     "text": [
      "\tTrain Loss: 3.640\tTrain Acc: 29.94%\n",
      "\tValid Loss: 3.669\tValid Acc: 30.11%\n",
      "\tModel parameters saved to wo_context.pt\n"
     ]
    },
    {
     "name": "stderr",
     "output_type": "stream",
     "text": [
      "Epoch 08: 100%|██████████| 95/95 [00:01<00:00, 82.60it/s, Loss=3.58, Acc=0.293]\n"
     ]
    },
    {
     "name": "stdout",
     "output_type": "stream",
     "text": [
      "\tTrain Loss: 3.563\tTrain Acc: 30.37%\n",
      "\tValid Loss: 3.622\tValid Acc: 30.73%\n",
      "\tModel parameters saved to wo_context.pt\n"
     ]
    },
    {
     "name": "stderr",
     "output_type": "stream",
     "text": [
      "Epoch 09: 100%|██████████| 95/95 [00:01<00:00, 84.80it/s, Loss=3.46, Acc=0.307]\n"
     ]
    },
    {
     "name": "stdout",
     "output_type": "stream",
     "text": [
      "\tTrain Loss: 3.496\tTrain Acc: 31.03%\n",
      "\tValid Loss: 3.590\tValid Acc: 31.07%\n",
      "\tModel parameters saved to wo_context.pt\n"
     ]
    },
    {
     "name": "stderr",
     "output_type": "stream",
     "text": [
      "Epoch 10: 100%|██████████| 95/95 [00:01<00:00, 87.18it/s, Loss=3.56, Acc=0.313]\n"
     ]
    },
    {
     "name": "stdout",
     "output_type": "stream",
     "text": [
      "\tTrain Loss: 3.439\tTrain Acc: 31.36%\n",
      "\tValid Loss: 3.561\tValid Acc: 31.39%\n",
      "\tModel parameters saved to wo_context.pt\n"
     ]
    },
    {
     "name": "stderr",
     "output_type": "stream",
     "text": [
      "Epoch 11: 100%|██████████| 95/95 [00:01<00:00, 89.96it/s, Loss=3.25, Acc=0.33] \n"
     ]
    },
    {
     "name": "stdout",
     "output_type": "stream",
     "text": [
      "\tTrain Loss: 3.387\tTrain Acc: 32.01%\n",
      "\tValid Loss: 3.532\tValid Acc: 31.66%\n",
      "\tModel parameters saved to wo_context.pt\n"
     ]
    },
    {
     "name": "stderr",
     "output_type": "stream",
     "text": [
      "Epoch 12: 100%|██████████| 95/95 [00:01<00:00, 85.09it/s, Loss=3.27, Acc=0.33] \n"
     ]
    },
    {
     "name": "stdout",
     "output_type": "stream",
     "text": [
      "\tTrain Loss: 3.339\tTrain Acc: 32.41%\n",
      "\tValid Loss: 3.512\tValid Acc: 31.93%\n",
      "\tModel parameters saved to wo_context.pt\n"
     ]
    },
    {
     "name": "stderr",
     "output_type": "stream",
     "text": [
      "Epoch 13: 100%|██████████| 95/95 [00:01<00:00, 84.66it/s, Loss=3.13, Acc=0.361]\n"
     ]
    },
    {
     "name": "stdout",
     "output_type": "stream",
     "text": [
      "\tTrain Loss: 3.294\tTrain Acc: 32.76%\n",
      "\tValid Loss: 3.502\tValid Acc: 31.76%\n",
      "\tModel parameters saved to wo_context.pt\n"
     ]
    },
    {
     "name": "stderr",
     "output_type": "stream",
     "text": [
      "Epoch 14: 100%|██████████| 95/95 [00:01<00:00, 82.79it/s, Loss=2.99, Acc=0.36] \n"
     ]
    },
    {
     "name": "stdout",
     "output_type": "stream",
     "text": [
      "\tTrain Loss: 3.251\tTrain Acc: 33.10%\n",
      "\tValid Loss: 3.483\tValid Acc: 32.17%\n",
      "\tModel parameters saved to wo_context.pt\n"
     ]
    },
    {
     "name": "stderr",
     "output_type": "stream",
     "text": [
      "Epoch 15: 100%|██████████| 95/95 [00:01<00:00, 83.86it/s, Loss=3.36, Acc=0.298]\n"
     ]
    },
    {
     "name": "stdout",
     "output_type": "stream",
     "text": [
      "\tTrain Loss: 3.213\tTrain Acc: 33.54%\n",
      "\tValid Loss: 3.476\tValid Acc: 32.40%\n",
      "\tModel parameters saved to wo_context.pt\n"
     ]
    }
   ],
   "source": [
    "wo_context_filename = 'wo_context.pt'\n",
    "wo_context_mistakes = learner.train(epochs=EPOCHS, filename=wo_context_filename, return_mismatches=True)"
   ]
  },
  {
   "cell_type": "markdown",
   "metadata": {},
   "source": [
    "## Show top mistakes"
   ]
  },
  {
   "cell_type": "code",
   "execution_count": 7,
   "metadata": {},
   "outputs": [
    {
     "data": {
      "text/html": [
       "<div>\n",
       "<style scoped>\n",
       "    .dataframe tbody tr th:only-of-type {\n",
       "        vertical-align: middle;\n",
       "    }\n",
       "\n",
       "    .dataframe tbody tr th {\n",
       "        vertical-align: top;\n",
       "    }\n",
       "\n",
       "    .dataframe thead th {\n",
       "        text-align: right;\n",
       "    }\n",
       "</style>\n",
       "<table border=\"1\" class=\"dataframe\">\n",
       "  <thead>\n",
       "    <tr style=\"text-align: right;\">\n",
       "      <th></th>\n",
       "      <th>prediction</th>\n",
       "      <th>ground truth</th>\n",
       "    </tr>\n",
       "  </thead>\n",
       "  <tbody>\n",
       "    <tr>\n",
       "      <th>0</th>\n",
       "      <td>Bob</td>\n",
       "      <td>He</td>\n",
       "    </tr>\n",
       "    <tr>\n",
       "      <th>1</th>\n",
       "      <td>Bob</td>\n",
       "      <td>Sue</td>\n",
       "    </tr>\n",
       "    <tr>\n",
       "      <th>2</th>\n",
       "      <td>Bob</td>\n",
       "      <td>She</td>\n",
       "    </tr>\n",
       "    <tr>\n",
       "      <th>3</th>\n",
       "      <td>the</td>\n",
       "      <td>his</td>\n",
       "    </tr>\n",
       "    <tr>\n",
       "      <th>4</th>\n",
       "      <td>.</td>\n",
       "      <td>and</td>\n",
       "    </tr>\n",
       "    <tr>\n",
       "      <th>5</th>\n",
       "      <td>was</td>\n",
       "      <td>had</td>\n",
       "    </tr>\n",
       "    <tr>\n",
       "      <th>6</th>\n",
       "      <td>he</td>\n",
       "      <td>she</td>\n",
       "    </tr>\n",
       "    <tr>\n",
       "      <th>7</th>\n",
       "      <td>.</td>\n",
       "      <td>to</td>\n",
       "    </tr>\n",
       "    <tr>\n",
       "      <th>8</th>\n",
       "      <td>to</td>\n",
       "      <td>.</td>\n",
       "    </tr>\n",
       "    <tr>\n",
       "      <th>9</th>\n",
       "      <td>was</td>\n",
       "      <td>decided</td>\n",
       "    </tr>\n",
       "    <tr>\n",
       "      <th>10</th>\n",
       "      <td>the</td>\n",
       "      <td>her</td>\n",
       "    </tr>\n",
       "    <tr>\n",
       "      <th>11</th>\n",
       "      <td>the</td>\n",
       "      <td>a</td>\n",
       "    </tr>\n",
       "    <tr>\n",
       "      <th>12</th>\n",
       "      <td>was</td>\n",
       "      <td>went</td>\n",
       "    </tr>\n",
       "    <tr>\n",
       "      <th>13</th>\n",
       "      <td>was</td>\n",
       "      <td>didn</td>\n",
       "    </tr>\n",
       "    <tr>\n",
       "      <th>14</th>\n",
       "      <td>was</td>\n",
       "      <td>'s</td>\n",
       "    </tr>\n",
       "    <tr>\n",
       "      <th>15</th>\n",
       "      <td>Bob</td>\n",
       "      <td>The</td>\n",
       "    </tr>\n",
       "    <tr>\n",
       "      <th>16</th>\n",
       "      <td>a</td>\n",
       "      <td>the</td>\n",
       "    </tr>\n",
       "    <tr>\n",
       "      <th>17</th>\n",
       "      <td>was</td>\n",
       "      <td>got</td>\n",
       "    </tr>\n",
       "    <tr>\n",
       "      <th>18</th>\n",
       "      <td>.</td>\n",
       "      <td>for</td>\n",
       "    </tr>\n",
       "    <tr>\n",
       "      <th>19</th>\n",
       "      <td>Bob</td>\n",
       "      <td>They</td>\n",
       "    </tr>\n",
       "    <tr>\n",
       "      <th>20</th>\n",
       "      <td>.</td>\n",
       "      <td>in</td>\n",
       "    </tr>\n",
       "    <tr>\n",
       "      <th>21</th>\n",
       "      <td>to</td>\n",
       "      <td>and</td>\n",
       "    </tr>\n",
       "    <tr>\n",
       "      <th>22</th>\n",
       "      <td>.</td>\n",
       "      <td>at</td>\n",
       "    </tr>\n",
       "    <tr>\n",
       "      <th>23</th>\n",
       "      <td>was</td>\n",
       "      <td>wanted</td>\n",
       "    </tr>\n",
       "    <tr>\n",
       "      <th>24</th>\n",
       "      <td>.</td>\n",
       "      <td>!</td>\n",
       "    </tr>\n",
       "    <tr>\n",
       "      <th>25</th>\n",
       "      <td>Bob</td>\n",
       "      <td>His</td>\n",
       "    </tr>\n",
       "    <tr>\n",
       "      <th>26</th>\n",
       "      <td>Bob</td>\n",
       "      <td>When</td>\n",
       "    </tr>\n",
       "    <tr>\n",
       "      <th>27</th>\n",
       "      <td>was</td>\n",
       "      <td>could</td>\n",
       "    </tr>\n",
       "    <tr>\n",
       "      <th>28</th>\n",
       "      <td>.</td>\n",
       "      <td>the</td>\n",
       "    </tr>\n",
       "    <tr>\n",
       "      <th>29</th>\n",
       "      <td>Bob</td>\n",
       "      <td>But</td>\n",
       "    </tr>\n",
       "    <tr>\n",
       "      <th>30</th>\n",
       "      <td>to</td>\n",
       "      <td>for</td>\n",
       "    </tr>\n",
       "    <tr>\n",
       "      <th>31</th>\n",
       "      <td>.</td>\n",
       "      <td>,</td>\n",
       "    </tr>\n",
       "    <tr>\n",
       "      <th>32</th>\n",
       "      <td>and</td>\n",
       "      <td>.</td>\n",
       "    </tr>\n",
       "    <tr>\n",
       "      <th>33</th>\n",
       "      <td>her</td>\n",
       "      <td>his</td>\n",
       "    </tr>\n",
       "    <tr>\n",
       "      <th>34</th>\n",
       "      <td>was</td>\n",
       "      <td>felt</td>\n",
       "    </tr>\n",
       "  </tbody>\n",
       "</table>\n",
       "</div>"
      ],
      "text/plain": [
       "   prediction ground truth\n",
       "0         Bob           He\n",
       "1         Bob          Sue\n",
       "2         Bob          She\n",
       "3         the          his\n",
       "4           .          and\n",
       "5         was          had\n",
       "6          he          she\n",
       "7           .           to\n",
       "8          to            .\n",
       "9         was      decided\n",
       "10        the          her\n",
       "11        the            a\n",
       "12        was         went\n",
       "13        was         didn\n",
       "14        was           's\n",
       "15        Bob          The\n",
       "16          a          the\n",
       "17        was          got\n",
       "18          .          for\n",
       "19        Bob         They\n",
       "20          .           in\n",
       "21         to          and\n",
       "22          .           at\n",
       "23        was       wanted\n",
       "24          .            !\n",
       "25        Bob          His\n",
       "26        Bob         When\n",
       "27        was        could\n",
       "28          .          the\n",
       "29        Bob          But\n",
       "30         to          for\n",
       "31          .            ,\n",
       "32        and            .\n",
       "33        her          his\n",
       "34        was         felt"
      ]
     },
     "execution_count": 7,
     "metadata": {},
     "output_type": "execute_result"
    }
   ],
   "source": [
    "show_mistakes(wo_context_mistakes)"
   ]
  },
  {
   "cell_type": "markdown",
   "metadata": {},
   "source": [
    "## Evaluate model on test set"
   ]
  },
  {
   "cell_type": "code",
   "execution_count": 8,
   "metadata": {},
   "outputs": [
    {
     "name": "stdout",
     "output_type": "stream",
     "text": [
      "\t Test Loss: 3.499\t Test Acc: 31.98%\n"
     ]
    }
   ],
   "source": [
    "learner.load_model_params(wo_context_filename)\n",
    "learner.print_test_results()"
   ]
  },
  {
   "cell_type": "markdown",
   "metadata": {},
   "source": [
    "# Log loss training w/ context"
   ]
  },
  {
   "cell_type": "markdown",
   "metadata": {},
   "source": [
    "## Load model and learner"
   ]
  },
  {
   "cell_type": "code",
   "execution_count": 9,
   "metadata": {},
   "outputs": [],
   "source": [
    "w_context = FullVocabularyModel(\n",
    "    vocab_size=len(vocab),\n",
    "    embedding_dim=EMBEDDING_DIM,\n",
    "    hidden_size=HIDDEN_SIZE,\n",
    "    dropout=DROPOUT,\n",
    "    read_context=True\n",
    ")\n",
    "learner = get_learner(model=w_context)"
   ]
  },
  {
   "cell_type": "markdown",
   "metadata": {},
   "source": [
    "## Train model"
   ]
  },
  {
   "cell_type": "code",
   "execution_count": 10,
   "metadata": {
    "scrolled": true
   },
   "outputs": [
    {
     "name": "stderr",
     "output_type": "stream",
     "text": [
      "Epoch 01: 100%|██████████| 95/95 [00:01<00:00, 68.96it/s, Loss=5.26, Acc=0.17]  \n"
     ]
    },
    {
     "name": "stdout",
     "output_type": "stream",
     "text": [
      "\tTrain Loss: 5.620\tTrain Acc: 13.04%\n",
      "\tValid Loss: 5.136\tValid Acc: 18.39%\n",
      "\tModel parameters saved to w_context.pt\n"
     ]
    },
    {
     "name": "stderr",
     "output_type": "stream",
     "text": [
      "Epoch 02: 100%|██████████| 95/95 [00:01<00:00, 60.75it/s, Loss=4.36, Acc=0.212]\n"
     ]
    },
    {
     "name": "stdout",
     "output_type": "stream",
     "text": [
      "\tTrain Loss: 4.788\tTrain Acc: 20.83%\n",
      "\tValid Loss: 4.412\tValid Acc: 24.14%\n",
      "\tModel parameters saved to w_context.pt\n"
     ]
    },
    {
     "name": "stderr",
     "output_type": "stream",
     "text": [
      "Epoch 03: 100%|██████████| 95/95 [00:01<00:00, 70.00it/s, Loss=3.99, Acc=0.299]\n"
     ]
    },
    {
     "name": "stdout",
     "output_type": "stream",
     "text": [
      "\tTrain Loss: 4.262\tTrain Acc: 25.57%\n",
      "\tValid Loss: 4.086\tValid Acc: 27.25%\n",
      "\tModel parameters saved to w_context.pt\n"
     ]
    },
    {
     "name": "stderr",
     "output_type": "stream",
     "text": [
      "Epoch 04: 100%|██████████| 95/95 [00:01<00:00, 72.15it/s, Loss=4.03, Acc=0.296]\n"
     ]
    },
    {
     "name": "stdout",
     "output_type": "stream",
     "text": [
      "\tTrain Loss: 3.979\tTrain Acc: 27.83%\n",
      "\tValid Loss: 3.881\tValid Acc: 28.93%\n",
      "\tModel parameters saved to w_context.pt\n"
     ]
    },
    {
     "name": "stderr",
     "output_type": "stream",
     "text": [
      "Epoch 05: 100%|██████████| 95/95 [00:01<00:00, 66.78it/s, Loss=3.72, Acc=0.276]\n"
     ]
    },
    {
     "name": "stdout",
     "output_type": "stream",
     "text": [
      "\tTrain Loss: 3.797\tTrain Acc: 29.17%\n",
      "\tValid Loss: 3.770\tValid Acc: 29.96%\n",
      "\tModel parameters saved to w_context.pt\n"
     ]
    },
    {
     "name": "stderr",
     "output_type": "stream",
     "text": [
      "Epoch 06: 100%|██████████| 95/95 [00:01<00:00, 70.47it/s, Loss=3.61, Acc=0.324]\n"
     ]
    },
    {
     "name": "stdout",
     "output_type": "stream",
     "text": [
      "\tTrain Loss: 3.680\tTrain Acc: 30.14%\n",
      "\tValid Loss: 3.694\tValid Acc: 30.50%\n",
      "\tModel parameters saved to w_context.pt\n"
     ]
    },
    {
     "name": "stderr",
     "output_type": "stream",
     "text": [
      "Epoch 07: 100%|██████████| 95/95 [00:01<00:00, 71.02it/s, Loss=3.64, Acc=0.314]\n"
     ]
    },
    {
     "name": "stdout",
     "output_type": "stream",
     "text": [
      "\tTrain Loss: 3.593\tTrain Acc: 30.65%\n",
      "\tValid Loss: 3.631\tValid Acc: 30.99%\n",
      "\tModel parameters saved to w_context.pt\n"
     ]
    },
    {
     "name": "stderr",
     "output_type": "stream",
     "text": [
      "Epoch 08: 100%|██████████| 95/95 [00:01<00:00, 71.67it/s, Loss=3.58, Acc=0.3]  \n"
     ]
    },
    {
     "name": "stdout",
     "output_type": "stream",
     "text": [
      "\tTrain Loss: 3.523\tTrain Acc: 31.23%\n",
      "\tValid Loss: 3.586\tValid Acc: 31.27%\n",
      "\tModel parameters saved to w_context.pt\n"
     ]
    },
    {
     "name": "stderr",
     "output_type": "stream",
     "text": [
      "Epoch 09: 100%|██████████| 95/95 [00:01<00:00, 65.71it/s, Loss=3.7, Acc=0.282] \n"
     ]
    },
    {
     "name": "stdout",
     "output_type": "stream",
     "text": [
      "\tTrain Loss: 3.459\tTrain Acc: 31.95%\n",
      "\tValid Loss: 3.547\tValid Acc: 32.15%\n",
      "\tModel parameters saved to w_context.pt\n"
     ]
    },
    {
     "name": "stderr",
     "output_type": "stream",
     "text": [
      "Epoch 10: 100%|██████████| 95/95 [00:01<00:00, 62.48it/s, Loss=3.49, Acc=0.335]\n"
     ]
    },
    {
     "name": "stdout",
     "output_type": "stream",
     "text": [
      "\tTrain Loss: 3.399\tTrain Acc: 32.82%\n",
      "\tValid Loss: 3.511\tValid Acc: 32.80%\n",
      "\tModel parameters saved to w_context.pt\n"
     ]
    },
    {
     "name": "stderr",
     "output_type": "stream",
     "text": [
      "Epoch 11: 100%|██████████| 95/95 [00:01<00:00, 69.05it/s, Loss=3.41, Acc=0.329]\n"
     ]
    },
    {
     "name": "stdout",
     "output_type": "stream",
     "text": [
      "\tTrain Loss: 3.344\tTrain Acc: 33.31%\n",
      "\tValid Loss: 3.481\tValid Acc: 33.20%\n",
      "\tModel parameters saved to w_context.pt\n"
     ]
    },
    {
     "name": "stderr",
     "output_type": "stream",
     "text": [
      "Epoch 12: 100%|██████████| 95/95 [00:01<00:00, 65.94it/s, Loss=3.26, Acc=0.344]\n"
     ]
    },
    {
     "name": "stdout",
     "output_type": "stream",
     "text": [
      "\tTrain Loss: 3.294\tTrain Acc: 33.91%\n",
      "\tValid Loss: 3.459\tValid Acc: 33.62%\n",
      "\tModel parameters saved to w_context.pt\n"
     ]
    },
    {
     "name": "stderr",
     "output_type": "stream",
     "text": [
      "Epoch 13: 100%|██████████| 95/95 [00:01<00:00, 62.21it/s, Loss=3.32, Acc=0.359]\n"
     ]
    },
    {
     "name": "stdout",
     "output_type": "stream",
     "text": [
      "\tTrain Loss: 3.248\tTrain Acc: 34.29%\n",
      "\tValid Loss: 3.452\tValid Acc: 33.32%\n",
      "\tModel parameters saved to w_context.pt\n"
     ]
    },
    {
     "name": "stderr",
     "output_type": "stream",
     "text": [
      "Epoch 14: 100%|██████████| 95/95 [00:01<00:00, 67.70it/s, Loss=3.2, Acc=0.342] \n"
     ]
    },
    {
     "name": "stdout",
     "output_type": "stream",
     "text": [
      "\tTrain Loss: 3.204\tTrain Acc: 34.75%\n",
      "\tValid Loss: 3.432\tValid Acc: 33.37%\n",
      "\tModel parameters saved to w_context.pt\n"
     ]
    },
    {
     "name": "stderr",
     "output_type": "stream",
     "text": [
      "Epoch 15: 100%|██████████| 95/95 [00:01<00:00, 66.46it/s, Loss=3.18, Acc=0.339]\n"
     ]
    },
    {
     "name": "stdout",
     "output_type": "stream",
     "text": [
      "\tTrain Loss: 3.158\tTrain Acc: 35.75%\n",
      "\tValid Loss: 3.400\tValid Acc: 35.19%\n",
      "\tModel parameters saved to w_context.pt\n"
     ]
    }
   ],
   "source": [
    "w_context_filename = 'w_context.pt'\n",
    "w_context_mistakes = learner.train(epochs=EPOCHS, filename=w_context_filename, return_mismatches=True)"
   ]
  },
  {
   "cell_type": "markdown",
   "metadata": {},
   "source": [
    "## Show top mistakes"
   ]
  },
  {
   "cell_type": "code",
   "execution_count": 11,
   "metadata": {},
   "outputs": [
    {
     "data": {
      "text/html": [
       "<div>\n",
       "<style scoped>\n",
       "    .dataframe tbody tr th:only-of-type {\n",
       "        vertical-align: middle;\n",
       "    }\n",
       "\n",
       "    .dataframe tbody tr th {\n",
       "        vertical-align: top;\n",
       "    }\n",
       "\n",
       "    .dataframe thead th {\n",
       "        text-align: right;\n",
       "    }\n",
       "</style>\n",
       "<table border=\"1\" class=\"dataframe\">\n",
       "  <thead>\n",
       "    <tr style=\"text-align: right;\">\n",
       "      <th></th>\n",
       "      <th>prediction</th>\n",
       "      <th>ground truth</th>\n",
       "    </tr>\n",
       "  </thead>\n",
       "  <tbody>\n",
       "    <tr>\n",
       "      <th>0</th>\n",
       "      <td>the</td>\n",
       "      <td>his</td>\n",
       "    </tr>\n",
       "    <tr>\n",
       "      <th>1</th>\n",
       "      <td>Bob</td>\n",
       "      <td>Sue</td>\n",
       "    </tr>\n",
       "    <tr>\n",
       "      <th>2</th>\n",
       "      <td>was</td>\n",
       "      <td>had</td>\n",
       "    </tr>\n",
       "    <tr>\n",
       "      <th>3</th>\n",
       "      <td>.</td>\n",
       "      <td>and</td>\n",
       "    </tr>\n",
       "    <tr>\n",
       "      <th>4</th>\n",
       "      <td>He</td>\n",
       "      <td>Bob</td>\n",
       "    </tr>\n",
       "    <tr>\n",
       "      <th>5</th>\n",
       "      <td>.</td>\n",
       "      <td>to</td>\n",
       "    </tr>\n",
       "    <tr>\n",
       "      <th>6</th>\n",
       "      <td>the</td>\n",
       "      <td>a</td>\n",
       "    </tr>\n",
       "    <tr>\n",
       "      <th>7</th>\n",
       "      <td>Sue</td>\n",
       "      <td>Bob</td>\n",
       "    </tr>\n",
       "    <tr>\n",
       "      <th>8</th>\n",
       "      <td>was</td>\n",
       "      <td>decided</td>\n",
       "    </tr>\n",
       "    <tr>\n",
       "      <th>9</th>\n",
       "      <td>the</td>\n",
       "      <td>her</td>\n",
       "    </tr>\n",
       "    <tr>\n",
       "      <th>10</th>\n",
       "      <td>he</td>\n",
       "      <td>she</td>\n",
       "    </tr>\n",
       "    <tr>\n",
       "      <th>11</th>\n",
       "      <td>was</td>\n",
       "      <td>didn</td>\n",
       "    </tr>\n",
       "    <tr>\n",
       "      <th>12</th>\n",
       "      <td>was</td>\n",
       "      <td>went</td>\n",
       "    </tr>\n",
       "    <tr>\n",
       "      <th>13</th>\n",
       "      <td>was</td>\n",
       "      <td>'s</td>\n",
       "    </tr>\n",
       "    <tr>\n",
       "      <th>14</th>\n",
       "      <td>was</td>\n",
       "      <td>got</td>\n",
       "    </tr>\n",
       "    <tr>\n",
       "      <th>15</th>\n",
       "      <td>to</td>\n",
       "      <td>.</td>\n",
       "    </tr>\n",
       "    <tr>\n",
       "      <th>16</th>\n",
       "      <td>and</td>\n",
       "      <td>.</td>\n",
       "    </tr>\n",
       "    <tr>\n",
       "      <th>17</th>\n",
       "      <td>.</td>\n",
       "      <td>for</td>\n",
       "    </tr>\n",
       "    <tr>\n",
       "      <th>18</th>\n",
       "      <td>She</td>\n",
       "      <td>Sue</td>\n",
       "    </tr>\n",
       "    <tr>\n",
       "      <th>19</th>\n",
       "      <td>a</td>\n",
       "      <td>the</td>\n",
       "    </tr>\n",
       "    <tr>\n",
       "      <th>20</th>\n",
       "      <td>and</td>\n",
       "      <td>to</td>\n",
       "    </tr>\n",
       "    <tr>\n",
       "      <th>21</th>\n",
       "      <td>was</td>\n",
       "      <td>wanted</td>\n",
       "    </tr>\n",
       "    <tr>\n",
       "      <th>22</th>\n",
       "      <td>.</td>\n",
       "      <td>at</td>\n",
       "    </tr>\n",
       "    <tr>\n",
       "      <th>23</th>\n",
       "      <td>.</td>\n",
       "      <td>!</td>\n",
       "    </tr>\n",
       "    <tr>\n",
       "      <th>24</th>\n",
       "      <td>.</td>\n",
       "      <td>in</td>\n",
       "    </tr>\n",
       "    <tr>\n",
       "      <th>25</th>\n",
       "      <td>.</td>\n",
       "      <td>,</td>\n",
       "    </tr>\n",
       "    <tr>\n",
       "      <th>26</th>\n",
       "      <td>was</td>\n",
       "      <td>felt</td>\n",
       "    </tr>\n",
       "    <tr>\n",
       "      <th>27</th>\n",
       "      <td>was</td>\n",
       "      <td>could</td>\n",
       "    </tr>\n",
       "    <tr>\n",
       "      <th>28</th>\n",
       "      <td>to</td>\n",
       "      <td>for</td>\n",
       "    </tr>\n",
       "    <tr>\n",
       "      <th>29</th>\n",
       "      <td>.</td>\n",
       "      <td>on</td>\n",
       "    </tr>\n",
       "    <tr>\n",
       "      <th>30</th>\n",
       "      <td>to</td>\n",
       "      <td>a</td>\n",
       "    </tr>\n",
       "    <tr>\n",
       "      <th>31</th>\n",
       "      <td>a</td>\n",
       "      <td>his</td>\n",
       "    </tr>\n",
       "    <tr>\n",
       "      <th>32</th>\n",
       "      <td>to</td>\n",
       "      <td>home</td>\n",
       "    </tr>\n",
       "    <tr>\n",
       "      <th>33</th>\n",
       "      <td>was</td>\n",
       "      <td>and</td>\n",
       "    </tr>\n",
       "    <tr>\n",
       "      <th>34</th>\n",
       "      <td>.</td>\n",
       "      <td>the</td>\n",
       "    </tr>\n",
       "  </tbody>\n",
       "</table>\n",
       "</div>"
      ],
      "text/plain": [
       "   prediction ground truth\n",
       "0         the          his\n",
       "1         Bob          Sue\n",
       "2         was          had\n",
       "3           .          and\n",
       "4          He          Bob\n",
       "5           .           to\n",
       "6         the            a\n",
       "7         Sue          Bob\n",
       "8         was      decided\n",
       "9         the          her\n",
       "10         he          she\n",
       "11        was         didn\n",
       "12        was         went\n",
       "13        was           's\n",
       "14        was          got\n",
       "15         to            .\n",
       "16        and            .\n",
       "17          .          for\n",
       "18        She          Sue\n",
       "19          a          the\n",
       "20        and           to\n",
       "21        was       wanted\n",
       "22          .           at\n",
       "23          .            !\n",
       "24          .           in\n",
       "25          .            ,\n",
       "26        was         felt\n",
       "27        was        could\n",
       "28         to          for\n",
       "29          .           on\n",
       "30         to            a\n",
       "31          a          his\n",
       "32         to         home\n",
       "33        was          and\n",
       "34          .          the"
      ]
     },
     "execution_count": 11,
     "metadata": {},
     "output_type": "execute_result"
    }
   ],
   "source": [
    "show_mistakes(w_context_mistakes)"
   ]
  },
  {
   "cell_type": "markdown",
   "metadata": {},
   "source": [
    "## Evaluate model on test set"
   ]
  },
  {
   "cell_type": "code",
   "execution_count": 12,
   "metadata": {},
   "outputs": [
    {
     "name": "stdout",
     "output_type": "stream",
     "text": [
      "\t Test Loss: 3.434\t Test Acc: 34.79%\n"
     ]
    }
   ],
   "source": [
    "learner.load_model_params(w_context_filename)\n",
    "learner.print_test_results()"
   ]
  },
  {
   "cell_type": "code",
   "execution_count": null,
   "metadata": {},
   "outputs": [],
   "source": []
  }
 ],
 "metadata": {
  "kernelspec": {
   "display_name": "Python 3",
   "language": "python",
   "name": "python3"
  },
  "language_info": {
   "codemirror_mode": {
    "name": "ipython",
    "version": 3
   },
   "file_extension": ".py",
   "mimetype": "text/x-python",
   "name": "python",
   "nbconvert_exporter": "python",
   "pygments_lexer": "ipython3",
   "version": "3.6.8"
  }
 },
 "nbformat": 4,
 "nbformat_minor": 4
}
