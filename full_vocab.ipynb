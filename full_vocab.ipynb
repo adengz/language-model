{
 "metadata": {
  "language_info": {
   "codemirror_mode": {
    "name": "ipython",
    "version": 3
   },
   "file_extension": ".py",
   "mimetype": "text/x-python",
   "name": "python",
   "nbconvert_exporter": "python",
   "pygments_lexer": "ipython3",
   "version": "3.8.6-final"
  },
  "orig_nbformat": 2,
  "kernelspec": {
   "name": "python3",
   "display_name": "Python 3"
  }
 },
 "nbformat": 4,
 "nbformat_minor": 2,
 "cells": [
  {
   "cell_type": "code",
   "execution_count": 1,
   "metadata": {},
   "outputs": [
    {
     "output_type": "execute_result",
     "data": {
      "text/plain": [
       "<torch._C.Generator at 0x7f881133d910>"
      ]
     },
     "metadata": {},
     "execution_count": 1
    }
   ],
   "source": [
    "import torch\n",
    "from data import Vocabulary, get_dataloader\n",
    "from models import FullVocabModel\n",
    "from utils import count_params\n",
    "from full_vocab_utils import train_model, evaluate, show_mistakes\n",
    "\n",
    "torch.manual_seed(41)"
   ]
  },
  {
   "source": [
    "## Hyperparameters"
   ],
   "cell_type": "markdown",
   "metadata": {}
  },
  {
   "cell_type": "code",
   "execution_count": 2,
   "metadata": {},
   "outputs": [],
   "source": [
    "from torch.optim import Adam\n",
    "\n",
    "BATCH_SIZE = 64\n",
    "EMBEDDING_DIM = 200\n",
    "HIDDEN_SIZE = 200\n",
    "EMBED_DROPOUT = 0.5\n",
    "RNN_DROPOUT = 0.5\n",
    "LR = 1e-3\n",
    "EPOCHS = 10\n",
    "OPTIM = Adam"
   ]
  },
  {
   "source": [
    "## Load data"
   ],
   "cell_type": "markdown",
   "metadata": {}
  },
  {
   "cell_type": "code",
   "execution_count": 3,
   "metadata": {},
   "outputs": [],
   "source": [
    "filename = 'bobsue.prevsent.{}.tsv'\n",
    "\n",
    "vocab = Vocabulary()\n",
    "train_loader = get_dataloader(filename.format('train'), vocab, batch_size=BATCH_SIZE)\n",
    "val_loader = get_dataloader(filename.format('dev'), vocab, batch_size=BATCH_SIZE)\n",
    "test_loader = get_dataloader(filename.format('test'), vocab, batch_size=BATCH_SIZE)"
   ]
  },
  {
   "source": [
    "# Log loss training w/o context"
   ],
   "cell_type": "markdown",
   "metadata": {}
  },
  {
   "source": [
    "## Load model"
   ],
   "cell_type": "markdown",
   "metadata": {}
  },
  {
   "cell_type": "code",
   "execution_count": 4,
   "metadata": {},
   "outputs": [
    {
     "output_type": "execute_result",
     "data": {
      "text/plain": [
       "922699"
      ]
     },
     "metadata": {},
     "execution_count": 4
    }
   ],
   "source": [
    "model_wo_context = FullVocabModel(\n",
    "    vocab_size=len(vocab),\n",
    "    embedding_dim=EMBEDDING_DIM,\n",
    "    hidden_size=HIDDEN_SIZE,\n",
    "    padding_idx=vocab.pad_idx,\n",
    "    embed_dropout=EMBED_DROPOUT,\n",
    "    rnn_dropout=RNN_DROPOUT\n",
    ")\n",
    "count_params(model_wo_context)"
   ]
  },
  {
   "source": [
    "## Train model"
   ],
   "cell_type": "markdown",
   "metadata": {}
  },
  {
   "cell_type": "code",
   "execution_count": 5,
   "metadata": {},
   "outputs": [
    {
     "output_type": "stream",
     "name": "stdout",
     "text": [
      "Epoch:  1 | Epoch Time: 0m 9s\n",
      "\tTrain Loss:  4.466 | Train Acc:  35.27%\n",
      "\t Val. Loss:  3.472 |  Val. Acc:  40.37%\n",
      "\tModel parameters saved to wo_context.pt\n",
      "Epoch:  2 | Epoch Time: 0m 9s\n",
      "\tTrain Loss:  3.191 | Train Acc:  45.96%\n",
      "\t Val. Loss:  2.944 |  Val. Acc:  51.38%\n",
      "\tModel parameters saved to wo_context.pt\n",
      "Epoch:  3 | Epoch Time: 0m 9s\n",
      "\tTrain Loss:  2.886 | Train Acc:  51.48%\n",
      "\t Val. Loss:  2.776 |  Val. Acc:  52.13%\n",
      "\tModel parameters saved to wo_context.pt\n",
      "Epoch:  4 | Epoch Time: 0m 9s\n",
      "\tTrain Loss:  2.754 | Train Acc:  52.13%\n",
      "\t Val. Loss:  2.651 |  Val. Acc:  52.50%\n",
      "\tModel parameters saved to wo_context.pt\n",
      "Epoch:  5 | Epoch Time: 0m 9s\n",
      "\tTrain Loss:  2.641 | Train Acc:  53.05%\n",
      "\t Val. Loss:  2.574 |  Val. Acc:  53.64%\n",
      "\tModel parameters saved to wo_context.pt\n",
      "Epoch:  6 | Epoch Time: 0m 9s\n",
      "\tTrain Loss:  2.582 | Train Acc:  53.27%\n",
      "\t Val. Loss:  2.480 |  Val. Acc:  54.85%\n",
      "\tModel parameters saved to wo_context.pt\n",
      "Epoch:  7 | Epoch Time: 0m 9s\n",
      "\tTrain Loss:  2.502 | Train Acc:  54.00%\n",
      "\t Val. Loss:  2.412 |  Val. Acc:  55.67%\n",
      "\tModel parameters saved to wo_context.pt\n",
      "Epoch:  8 | Epoch Time: 0m 9s\n",
      "\tTrain Loss:  2.444 | Train Acc:  54.45%\n",
      "\t Val. Loss:  2.379 |  Val. Acc:  55.58%\n",
      "\tModel parameters saved to wo_context.pt\n",
      "Epoch:  9 | Epoch Time: 0m 9s\n",
      "\tTrain Loss:  2.386 | Train Acc:  55.03%\n",
      "\t Val. Loss:  2.326 |  Val. Acc:  56.12%\n",
      "\tModel parameters saved to wo_context.pt\n",
      "Epoch:  10 | Epoch Time: 0m 9s\n",
      "\tTrain Loss:  2.360 | Train Acc:  55.05%\n",
      "\t Val. Loss:  2.309 |  Val. Acc:  56.24%\n",
      "\tModel parameters saved to wo_context.pt\n"
     ]
    }
   ],
   "source": [
    "mis_preds_wo_context = train_model(\n",
    "    model=model_wo_context,\n",
    "    filename='wo_context.pt', \n",
    "    train_loader=train_loader,\n",
    "    val_loader=val_loader,\n",
    "    optim=OPTIM,\n",
    "    lr=LR,\n",
    "    epochs=EPOCHS,\n",
    "    read_prev=False\n",
    ")"
   ]
  },
  {
   "source": [
    "## Show top mistakes"
   ],
   "cell_type": "markdown",
   "metadata": {}
  },
  {
   "cell_type": "code",
   "execution_count": 6,
   "metadata": {},
   "outputs": [
    {
     "output_type": "execute_result",
     "data": {
      "text/plain": [
       "   prediction ground truth  count\n",
       "0          He          Bob    164\n",
       "1          He          She     96\n",
       "2          He          Sue     93\n",
       "3         the          his     71\n",
       "4         the            a     69\n",
       "5           .          and     65\n",
       "6         was          had     61\n",
       "7         the          her     55\n",
       "8           .           to     51\n",
       "9          he          she     46\n",
       "10         to            .     39\n",
       "11          .           of     39\n",
       "12        was      decided     37\n",
       "13        was          got     33\n",
       "14        was         went     32\n",
       "15         to          and     31\n",
       "16          .          for     31\n",
       "17        was         didn     29\n",
       "18         He          The     28\n",
       "19        was           's     28\n",
       "20         to           up     27\n",
       "21         He         They     25\n",
       "22         to          for     25\n",
       "23          .           in     25\n",
       "24          .            ,     24\n",
       "25        was       wanted     23\n",
       "26        was        could     23\n",
       "27         he          Bob     22\n",
       "28          .           at     22\n",
       "29         to            a     20\n",
       "30          .          the     20\n",
       "31         He         When     19\n",
       "32         He          But     19\n",
       "33         He          His     19\n",
       "34        was         felt     19"
      ],
      "text/html": "<div>\n<style scoped>\n    .dataframe tbody tr th:only-of-type {\n        vertical-align: middle;\n    }\n\n    .dataframe tbody tr th {\n        vertical-align: top;\n    }\n\n    .dataframe thead th {\n        text-align: right;\n    }\n</style>\n<table border=\"1\" class=\"dataframe\">\n  <thead>\n    <tr style=\"text-align: right;\">\n      <th></th>\n      <th>prediction</th>\n      <th>ground truth</th>\n      <th>count</th>\n    </tr>\n  </thead>\n  <tbody>\n    <tr>\n      <th>0</th>\n      <td>He</td>\n      <td>Bob</td>\n      <td>164</td>\n    </tr>\n    <tr>\n      <th>1</th>\n      <td>He</td>\n      <td>She</td>\n      <td>96</td>\n    </tr>\n    <tr>\n      <th>2</th>\n      <td>He</td>\n      <td>Sue</td>\n      <td>93</td>\n    </tr>\n    <tr>\n      <th>3</th>\n      <td>the</td>\n      <td>his</td>\n      <td>71</td>\n    </tr>\n    <tr>\n      <th>4</th>\n      <td>the</td>\n      <td>a</td>\n      <td>69</td>\n    </tr>\n    <tr>\n      <th>5</th>\n      <td>.</td>\n      <td>and</td>\n      <td>65</td>\n    </tr>\n    <tr>\n      <th>6</th>\n      <td>was</td>\n      <td>had</td>\n      <td>61</td>\n    </tr>\n    <tr>\n      <th>7</th>\n      <td>the</td>\n      <td>her</td>\n      <td>55</td>\n    </tr>\n    <tr>\n      <th>8</th>\n      <td>.</td>\n      <td>to</td>\n      <td>51</td>\n    </tr>\n    <tr>\n      <th>9</th>\n      <td>he</td>\n      <td>she</td>\n      <td>46</td>\n    </tr>\n    <tr>\n      <th>10</th>\n      <td>to</td>\n      <td>.</td>\n      <td>39</td>\n    </tr>\n    <tr>\n      <th>11</th>\n      <td>.</td>\n      <td>of</td>\n      <td>39</td>\n    </tr>\n    <tr>\n      <th>12</th>\n      <td>was</td>\n      <td>decided</td>\n      <td>37</td>\n    </tr>\n    <tr>\n      <th>13</th>\n      <td>was</td>\n      <td>got</td>\n      <td>33</td>\n    </tr>\n    <tr>\n      <th>14</th>\n      <td>was</td>\n      <td>went</td>\n      <td>32</td>\n    </tr>\n    <tr>\n      <th>15</th>\n      <td>to</td>\n      <td>and</td>\n      <td>31</td>\n    </tr>\n    <tr>\n      <th>16</th>\n      <td>.</td>\n      <td>for</td>\n      <td>31</td>\n    </tr>\n    <tr>\n      <th>17</th>\n      <td>was</td>\n      <td>didn</td>\n      <td>29</td>\n    </tr>\n    <tr>\n      <th>18</th>\n      <td>He</td>\n      <td>The</td>\n      <td>28</td>\n    </tr>\n    <tr>\n      <th>19</th>\n      <td>was</td>\n      <td>'s</td>\n      <td>28</td>\n    </tr>\n    <tr>\n      <th>20</th>\n      <td>to</td>\n      <td>up</td>\n      <td>27</td>\n    </tr>\n    <tr>\n      <th>21</th>\n      <td>He</td>\n      <td>They</td>\n      <td>25</td>\n    </tr>\n    <tr>\n      <th>22</th>\n      <td>to</td>\n      <td>for</td>\n      <td>25</td>\n    </tr>\n    <tr>\n      <th>23</th>\n      <td>.</td>\n      <td>in</td>\n      <td>25</td>\n    </tr>\n    <tr>\n      <th>24</th>\n      <td>.</td>\n      <td>,</td>\n      <td>24</td>\n    </tr>\n    <tr>\n      <th>25</th>\n      <td>was</td>\n      <td>wanted</td>\n      <td>23</td>\n    </tr>\n    <tr>\n      <th>26</th>\n      <td>was</td>\n      <td>could</td>\n      <td>23</td>\n    </tr>\n    <tr>\n      <th>27</th>\n      <td>he</td>\n      <td>Bob</td>\n      <td>22</td>\n    </tr>\n    <tr>\n      <th>28</th>\n      <td>.</td>\n      <td>at</td>\n      <td>22</td>\n    </tr>\n    <tr>\n      <th>29</th>\n      <td>to</td>\n      <td>a</td>\n      <td>20</td>\n    </tr>\n    <tr>\n      <th>30</th>\n      <td>.</td>\n      <td>the</td>\n      <td>20</td>\n    </tr>\n    <tr>\n      <th>31</th>\n      <td>He</td>\n      <td>When</td>\n      <td>19</td>\n    </tr>\n    <tr>\n      <th>32</th>\n      <td>He</td>\n      <td>But</td>\n      <td>19</td>\n    </tr>\n    <tr>\n      <th>33</th>\n      <td>He</td>\n      <td>His</td>\n      <td>19</td>\n    </tr>\n    <tr>\n      <th>34</th>\n      <td>was</td>\n      <td>felt</td>\n      <td>19</td>\n    </tr>\n  </tbody>\n</table>\n</div>"
     },
     "metadata": {},
     "execution_count": 6
    }
   ],
   "source": [
    "show_mistakes(mis_preds_wo_context, vocab)"
   ]
  },
  {
   "source": [
    "# Log loss training w/ context"
   ],
   "cell_type": "markdown",
   "metadata": {}
  },
  {
   "source": [
    "## Load model"
   ],
   "cell_type": "markdown",
   "metadata": {}
  },
  {
   "cell_type": "code",
   "execution_count": 7,
   "metadata": {},
   "outputs": [
    {
     "output_type": "execute_result",
     "data": {
      "text/plain": [
       "922699"
      ]
     },
     "metadata": {},
     "execution_count": 7
    }
   ],
   "source": [
    "model_w_context = FullVocabModel(\n",
    "    vocab_size=len(vocab),\n",
    "    embedding_dim=EMBEDDING_DIM,\n",
    "    hidden_size=HIDDEN_SIZE,\n",
    "    padding_idx=vocab.pad_idx,\n",
    "    embed_dropout=EMBED_DROPOUT,\n",
    "    rnn_dropout=RNN_DROPOUT\n",
    ")\n",
    "count_params(model_w_context)"
   ]
  },
  {
   "source": [
    "## Train model"
   ],
   "cell_type": "markdown",
   "metadata": {}
  },
  {
   "cell_type": "code",
   "execution_count": 8,
   "metadata": {},
   "outputs": [
    {
     "output_type": "stream",
     "name": "stdout",
     "text": [
      "Epoch:  1 | Epoch Time: 0m 14s\n",
      "\tTrain Loss:  4.550 | Train Acc:  35.08%\n",
      "\t Val. Loss:  3.823 |  Val. Acc:  37.42%\n",
      "\tModel parameters saved to w_context.pt\n",
      "Epoch:  2 | Epoch Time: 0m 14s\n",
      "\tTrain Loss:  3.334 | Train Acc:  44.83%\n",
      "\t Val. Loss:  2.986 |  Val. Acc:  50.43%\n",
      "\tModel parameters saved to w_context.pt\n",
      "Epoch:  3 | Epoch Time: 0m 14s\n",
      "\tTrain Loss:  2.924 | Train Acc:  51.15%\n",
      "\t Val. Loss:  2.813 |  Val. Acc:  51.66%\n",
      "\tModel parameters saved to w_context.pt\n",
      "Epoch:  4 | Epoch Time: 0m 14s\n",
      "\tTrain Loss:  2.778 | Train Acc:  52.15%\n",
      "\t Val. Loss:  2.698 |  Val. Acc:  52.45%\n",
      "\tModel parameters saved to w_context.pt\n",
      "Epoch:  5 | Epoch Time: 0m 14s\n",
      "\tTrain Loss:  2.673 | Train Acc:  52.87%\n",
      "\t Val. Loss:  2.521 |  Val. Acc:  54.93%\n",
      "\tModel parameters saved to w_context.pt\n",
      "Epoch:  6 | Epoch Time: 0m 14s\n",
      "\tTrain Loss:  2.585 | Train Acc:  53.49%\n",
      "\t Val. Loss:  2.461 |  Val. Acc:  55.14%\n",
      "\tModel parameters saved to w_context.pt\n",
      "Epoch:  7 | Epoch Time: 0m 15s\n",
      "\tTrain Loss:  2.486 | Train Acc:  54.46%\n",
      "\t Val. Loss:  2.419 |  Val. Acc:  55.23%\n",
      "\tModel parameters saved to w_context.pt\n",
      "Epoch:  8 | Epoch Time: 0m 15s\n",
      "\tTrain Loss:  2.428 | Train Acc:  54.85%\n",
      "\t Val. Loss:  2.340 |  Val. Acc:  56.40%\n",
      "\tModel parameters saved to w_context.pt\n",
      "Epoch:  9 | Epoch Time: 0m 14s\n",
      "\tTrain Loss:  2.402 | Train Acc:  54.86%\n",
      "\t Val. Loss:  2.338 |  Val. Acc:  56.02%\n",
      "\tModel parameters saved to w_context.pt\n",
      "Epoch:  10 | Epoch Time: 0m 15s\n",
      "\tTrain Loss:  2.349 | Train Acc:  55.51%\n",
      "\t Val. Loss:  2.294 |  Val. Acc:  56.54%\n",
      "\tModel parameters saved to w_context.pt\n"
     ]
    }
   ],
   "source": [
    "mis_preds_w_context = train_model(\n",
    "    model=model_w_context,\n",
    "    filename='w_context.pt', \n",
    "    train_loader=train_loader,\n",
    "    val_loader=val_loader,\n",
    "    optim=OPTIM,\n",
    "    lr=LR,\n",
    "    epochs=EPOCHS,\n",
    "    read_prev=True\n",
    ")"
   ]
  },
  {
   "source": [
    "## Show top mistakes"
   ],
   "cell_type": "markdown",
   "metadata": {}
  },
  {
   "cell_type": "code",
   "execution_count": 9,
   "metadata": {},
   "outputs": [
    {
     "output_type": "execute_result",
     "data": {
      "text/plain": [
       "   prediction ground truth  count\n",
       "0          He          Bob    163\n",
       "1          He          She     96\n",
       "2          He          Sue     93\n",
       "3           .          and     64\n",
       "4         was          had     62\n",
       "5         the          his     60\n",
       "6           .           to     55\n",
       "7         the            a     49\n",
       "8          he          she     46\n",
       "9         the          her     44\n",
       "10        was      decided     37\n",
       "11          .          for     35\n",
       "12        was         went     34\n",
       "13        was          got     32\n",
       "14        was         didn     30\n",
       "15        was           's     30\n",
       "16          a          the     30\n",
       "17         He          The     28\n",
       "18          .           of     28\n",
       "19         He         They     25\n",
       "20        was       wanted     25\n",
       "21         to            .     24\n",
       "22          .            ,     23\n",
       "23          .           at     23\n",
       "24        was        could     23\n",
       "25          .           in     22\n",
       "26          .          the     21\n",
       "27         to           up     20\n",
       "28          .           on     20\n",
       "29         He          But     19\n",
       "30         He          His     19\n",
       "31         He         When     19\n",
       "32        and            .     19\n",
       "33        the          get     19\n",
       "34          a           it     19"
      ],
      "text/html": "<div>\n<style scoped>\n    .dataframe tbody tr th:only-of-type {\n        vertical-align: middle;\n    }\n\n    .dataframe tbody tr th {\n        vertical-align: top;\n    }\n\n    .dataframe thead th {\n        text-align: right;\n    }\n</style>\n<table border=\"1\" class=\"dataframe\">\n  <thead>\n    <tr style=\"text-align: right;\">\n      <th></th>\n      <th>prediction</th>\n      <th>ground truth</th>\n      <th>count</th>\n    </tr>\n  </thead>\n  <tbody>\n    <tr>\n      <th>0</th>\n      <td>He</td>\n      <td>Bob</td>\n      <td>163</td>\n    </tr>\n    <tr>\n      <th>1</th>\n      <td>He</td>\n      <td>She</td>\n      <td>96</td>\n    </tr>\n    <tr>\n      <th>2</th>\n      <td>He</td>\n      <td>Sue</td>\n      <td>93</td>\n    </tr>\n    <tr>\n      <th>3</th>\n      <td>.</td>\n      <td>and</td>\n      <td>64</td>\n    </tr>\n    <tr>\n      <th>4</th>\n      <td>was</td>\n      <td>had</td>\n      <td>62</td>\n    </tr>\n    <tr>\n      <th>5</th>\n      <td>the</td>\n      <td>his</td>\n      <td>60</td>\n    </tr>\n    <tr>\n      <th>6</th>\n      <td>.</td>\n      <td>to</td>\n      <td>55</td>\n    </tr>\n    <tr>\n      <th>7</th>\n      <td>the</td>\n      <td>a</td>\n      <td>49</td>\n    </tr>\n    <tr>\n      <th>8</th>\n      <td>he</td>\n      <td>she</td>\n      <td>46</td>\n    </tr>\n    <tr>\n      <th>9</th>\n      <td>the</td>\n      <td>her</td>\n      <td>44</td>\n    </tr>\n    <tr>\n      <th>10</th>\n      <td>was</td>\n      <td>decided</td>\n      <td>37</td>\n    </tr>\n    <tr>\n      <th>11</th>\n      <td>.</td>\n      <td>for</td>\n      <td>35</td>\n    </tr>\n    <tr>\n      <th>12</th>\n      <td>was</td>\n      <td>went</td>\n      <td>34</td>\n    </tr>\n    <tr>\n      <th>13</th>\n      <td>was</td>\n      <td>got</td>\n      <td>32</td>\n    </tr>\n    <tr>\n      <th>14</th>\n      <td>was</td>\n      <td>didn</td>\n      <td>30</td>\n    </tr>\n    <tr>\n      <th>15</th>\n      <td>was</td>\n      <td>'s</td>\n      <td>30</td>\n    </tr>\n    <tr>\n      <th>16</th>\n      <td>a</td>\n      <td>the</td>\n      <td>30</td>\n    </tr>\n    <tr>\n      <th>17</th>\n      <td>He</td>\n      <td>The</td>\n      <td>28</td>\n    </tr>\n    <tr>\n      <th>18</th>\n      <td>.</td>\n      <td>of</td>\n      <td>28</td>\n    </tr>\n    <tr>\n      <th>19</th>\n      <td>He</td>\n      <td>They</td>\n      <td>25</td>\n    </tr>\n    <tr>\n      <th>20</th>\n      <td>was</td>\n      <td>wanted</td>\n      <td>25</td>\n    </tr>\n    <tr>\n      <th>21</th>\n      <td>to</td>\n      <td>.</td>\n      <td>24</td>\n    </tr>\n    <tr>\n      <th>22</th>\n      <td>.</td>\n      <td>,</td>\n      <td>23</td>\n    </tr>\n    <tr>\n      <th>23</th>\n      <td>.</td>\n      <td>at</td>\n      <td>23</td>\n    </tr>\n    <tr>\n      <th>24</th>\n      <td>was</td>\n      <td>could</td>\n      <td>23</td>\n    </tr>\n    <tr>\n      <th>25</th>\n      <td>.</td>\n      <td>in</td>\n      <td>22</td>\n    </tr>\n    <tr>\n      <th>26</th>\n      <td>.</td>\n      <td>the</td>\n      <td>21</td>\n    </tr>\n    <tr>\n      <th>27</th>\n      <td>to</td>\n      <td>up</td>\n      <td>20</td>\n    </tr>\n    <tr>\n      <th>28</th>\n      <td>.</td>\n      <td>on</td>\n      <td>20</td>\n    </tr>\n    <tr>\n      <th>29</th>\n      <td>He</td>\n      <td>But</td>\n      <td>19</td>\n    </tr>\n    <tr>\n      <th>30</th>\n      <td>He</td>\n      <td>His</td>\n      <td>19</td>\n    </tr>\n    <tr>\n      <th>31</th>\n      <td>He</td>\n      <td>When</td>\n      <td>19</td>\n    </tr>\n    <tr>\n      <th>32</th>\n      <td>and</td>\n      <td>.</td>\n      <td>19</td>\n    </tr>\n    <tr>\n      <th>33</th>\n      <td>the</td>\n      <td>get</td>\n      <td>19</td>\n    </tr>\n    <tr>\n      <th>34</th>\n      <td>a</td>\n      <td>it</td>\n      <td>19</td>\n    </tr>\n  </tbody>\n</table>\n</div>"
     },
     "metadata": {},
     "execution_count": 9
    }
   ],
   "source": [
    "show_mistakes(mis_preds_w_context, vocab)"
   ]
  },
  {
   "source": [
    "# Evaluate trained models"
   ],
   "cell_type": "markdown",
   "metadata": {}
  },
  {
   "source": [
    "## Load models"
   ],
   "cell_type": "markdown",
   "metadata": {}
  },
  {
   "cell_type": "code",
   "execution_count": 10,
   "metadata": {},
   "outputs": [
    {
     "output_type": "execute_result",
     "data": {
      "text/plain": [
       "<All keys matched successfully>"
      ]
     },
     "metadata": {},
     "execution_count": 10
    }
   ],
   "source": [
    "model_wo_context.load_state_dict(torch.load('wo_context.pt'))\n",
    "model_w_context.load_state_dict(torch.load('w_context.pt'))"
   ]
  },
  {
   "source": [
    "## Evaluate models on test set"
   ],
   "cell_type": "markdown",
   "metadata": {}
  },
  {
   "cell_type": "code",
   "execution_count": 11,
   "metadata": {},
   "outputs": [
    {
     "output_type": "stream",
     "name": "stdout",
     "text": [
      "Model trained w/o context\n\tTest Loss:  2.292 | Test Acc:  56.58%\nModel trained w/ context\n\tTest Loss:  2.355 | Test Acc:  55.67%\n"
     ]
    }
   ],
   "source": [
    "from torch import nn\n",
    "loss_fn = nn.CrossEntropyLoss()\n",
    "\n",
    "test_loss_wo_context, test_acc_wo_context, mis_preds_test_wo_context = evaluate(\n",
    "    model_wo_context,\n",
    "    test_loader,\n",
    "    loss_fn,\n",
    "    read_prev=False\n",
    ")\n",
    "test_loss_w_context, test_acc_w_context, mis_preds_test_w_context = evaluate(\n",
    "    model_w_context,\n",
    "    test_loader,\n",
    "    loss_fn,\n",
    "    read_prev=True\n",
    ")\n",
    "\n",
    "print('Model trained w/o context')\n",
    "print(f'\\tTest Loss: {test_loss_wo_context: .3f} | Test Acc: {test_acc_wo_context * 100: .2f}%')\n",
    "print('Model trained w/ context')\n",
    "print(f'\\tTest Loss: {test_loss_w_context: .3f} | Test Acc: {test_acc_w_context * 100: .2f}%')"
   ]
  },
  {
   "cell_type": "code",
   "execution_count": null,
   "metadata": {},
   "outputs": [],
   "source": []
  }
 ]
}