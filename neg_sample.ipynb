{
 "cells": [
  {
   "cell_type": "code",
   "execution_count": 1,
   "metadata": {},
   "outputs": [
    {
     "data": {
      "text/plain": [
       "<torch._C.Generator at 0x7fa2e4145168>"
      ]
     },
     "execution_count": 1,
     "metadata": {},
     "output_type": "execute_result"
    }
   ],
   "source": [
    "import torch\n",
    "from data import Vocabulary, BobSueDataset\n",
    "from models import NegativeSamplingModel\n",
    "from learner import LanguageModelLearner\n",
    "\n",
    "torch.manual_seed(41)"
   ]
  },
  {
   "cell_type": "markdown",
   "metadata": {},
   "source": [
    "## Hyperparameters"
   ]
  },
  {
   "cell_type": "code",
   "execution_count": 2,
   "metadata": {},
   "outputs": [],
   "source": [
    "BATCH_SIZE = 64\n",
    "EMBEDDING_DIM = 200\n",
    "DROPOUT = 0.2\n",
    "EPOCHS = 30"
   ]
  },
  {
   "cell_type": "markdown",
   "metadata": {},
   "source": [
    "## Load data"
   ]
  },
  {
   "cell_type": "code",
   "execution_count": 3,
   "metadata": {},
   "outputs": [],
   "source": [
    "FILENAME = 'bobsue.prevsent.{}.tsv'\n",
    "\n",
    "vocab = Vocabulary()\n",
    "\n",
    "train_set = BobSueDataset(FILENAME.format('train'), vocab)\n",
    "valid_set = BobSueDataset(FILENAME.format('dev'), vocab)\n",
    "test_set = BobSueDataset(FILENAME.format('test'), vocab)\n",
    "\n",
    "def get_learner():\n",
    "    model = NegativeSamplingModel(vocab_size=len(vocab), embedding_dim=EMBEDDING_DIM, dropout=DROPOUT)\n",
    "    return LanguageModelLearner(model, train_set=train_set, valid_set=valid_set, test_set=test_set, batch_size=BATCH_SIZE)"
   ]
  },
  {
   "cell_type": "markdown",
   "metadata": {},
   "source": [
    "## Utility functions"
   ]
  },
  {
   "cell_type": "code",
   "execution_count": 4,
   "metadata": {},
   "outputs": [],
   "source": [
    "def set_neg_count(neg_count):\n",
    "    for ds in [train_set, valid_set, test_set]:\n",
    "        ds.neg_count = neg_count\n",
    "\n",
    "def set_sample_pow(sample_pow):\n",
    "    for ds in [train_set, valid_set, test_set]:\n",
    "        ds.sample_pow = sample_pow"
   ]
  },
  {
   "cell_type": "markdown",
   "metadata": {},
   "source": [
    "# UNIF sampling"
   ]
  },
  {
   "cell_type": "code",
   "execution_count": 5,
   "metadata": {},
   "outputs": [],
   "source": [
    "set_sample_pow(0.)\n",
    "unif_filename = 'unif-{}.pt'"
   ]
  },
  {
   "cell_type": "markdown",
   "metadata": {},
   "source": [
    "### r = 20"
   ]
  },
  {
   "cell_type": "code",
   "execution_count": 6,
   "metadata": {
    "scrolled": true
   },
   "outputs": [],
   "source": [
    "r = 20\n",
    "set_neg_count(r)\n",
    "learner = get_learner()"
   ]
  },
  {
   "cell_type": "code",
   "execution_count": 7,
   "metadata": {},
   "outputs": [
    {
     "name": "stderr",
     "output_type": "stream",
     "text": [
      "Epoch 01: 100%|██████████| 95/95 [00:04<00:00, 22.61it/s, Loss=0.747, Acc=0.0256]\n"
     ]
    },
    {
     "name": "stdout",
     "output_type": "stream",
     "text": [
      "\tTrain Loss: 0.935\tTrain Acc: 3.35%\n",
      "\tValid Loss: 0.767\tValid Acc: 2.87%\n",
      "\tModel parameters saved to unif-20.pt\n"
     ]
    },
    {
     "name": "stderr",
     "output_type": "stream",
     "text": [
      "Epoch 02: 100%|██████████| 95/95 [00:04<00:00, 22.70it/s, Loss=0.673, Acc=0.119] \n"
     ]
    },
    {
     "name": "stdout",
     "output_type": "stream",
     "text": [
      "\tTrain Loss: 0.731\tTrain Acc: 9.35%\n",
      "\tValid Loss: 0.693\tValid Acc: 11.11%\n",
      "\tModel parameters saved to unif-20.pt\n"
     ]
    },
    {
     "name": "stderr",
     "output_type": "stream",
     "text": [
      "Epoch 03: 100%|██████████| 95/95 [00:04<00:00, 22.95it/s, Loss=0.566, Acc=0.0965]\n"
     ]
    },
    {
     "name": "stdout",
     "output_type": "stream",
     "text": [
      "\tTrain Loss: 0.655\tTrain Acc: 10.35%\n",
      "\tValid Loss: 0.630\tValid Acc: 11.06%\n",
      "\tModel parameters saved to unif-20.pt\n"
     ]
    },
    {
     "name": "stderr",
     "output_type": "stream",
     "text": [
      "Epoch 04: 100%|██████████| 95/95 [00:04<00:00, 21.82it/s, Loss=0.601, Acc=0.117] \n"
     ]
    },
    {
     "name": "stdout",
     "output_type": "stream",
     "text": [
      "\tTrain Loss: 0.602\tTrain Acc: 11.41%\n",
      "\tValid Loss: 0.595\tValid Acc: 12.50%\n",
      "\tModel parameters saved to unif-20.pt\n"
     ]
    },
    {
     "name": "stderr",
     "output_type": "stream",
     "text": [
      "Epoch 05: 100%|██████████| 95/95 [00:04<00:00, 21.52it/s, Loss=0.569, Acc=0.138]\n"
     ]
    },
    {
     "name": "stdout",
     "output_type": "stream",
     "text": [
      "\tTrain Loss: 0.568\tTrain Acc: 12.35%\n",
      "\tValid Loss: 0.572\tValid Acc: 13.17%\n",
      "\tModel parameters saved to unif-20.pt\n"
     ]
    },
    {
     "name": "stderr",
     "output_type": "stream",
     "text": [
      "Epoch 06: 100%|██████████| 95/95 [00:04<00:00, 22.92it/s, Loss=0.582, Acc=0.133]\n"
     ]
    },
    {
     "name": "stdout",
     "output_type": "stream",
     "text": [
      "\tTrain Loss: 0.541\tTrain Acc: 16.16%\n",
      "\tValid Loss: 0.551\tValid Acc: 20.51%\n",
      "\tModel parameters saved to unif-20.pt\n"
     ]
    },
    {
     "name": "stderr",
     "output_type": "stream",
     "text": [
      "Epoch 07: 100%|██████████| 95/95 [00:04<00:00, 22.19it/s, Loss=0.526, Acc=0.218]\n"
     ]
    },
    {
     "name": "stdout",
     "output_type": "stream",
     "text": [
      "\tTrain Loss: 0.515\tTrain Acc: 20.52%\n",
      "\tValid Loss: 0.532\tValid Acc: 23.78%\n",
      "\tModel parameters saved to unif-20.pt\n"
     ]
    },
    {
     "name": "stderr",
     "output_type": "stream",
     "text": [
      "Epoch 08: 100%|██████████| 95/95 [00:04<00:00, 21.83it/s, Loss=0.48, Acc=0.207] \n"
     ]
    },
    {
     "name": "stdout",
     "output_type": "stream",
     "text": [
      "\tTrain Loss: 0.492\tTrain Acc: 21.97%\n",
      "\tValid Loss: 0.516\tValid Acc: 23.69%\n",
      "\tModel parameters saved to unif-20.pt\n"
     ]
    },
    {
     "name": "stderr",
     "output_type": "stream",
     "text": [
      "Epoch 09: 100%|██████████| 95/95 [00:04<00:00, 22.58it/s, Loss=0.479, Acc=0.207]\n"
     ]
    },
    {
     "name": "stdout",
     "output_type": "stream",
     "text": [
      "\tTrain Loss: 0.469\tTrain Acc: 22.63%\n",
      "\tValid Loss: 0.505\tValid Acc: 24.29%\n",
      "\tModel parameters saved to unif-20.pt\n"
     ]
    },
    {
     "name": "stderr",
     "output_type": "stream",
     "text": [
      "Epoch 10: 100%|██████████| 95/95 [00:04<00:00, 22.05it/s, Loss=0.437, Acc=0.279]\n"
     ]
    },
    {
     "name": "stdout",
     "output_type": "stream",
     "text": [
      "\tTrain Loss: 0.451\tTrain Acc: 23.01%\n",
      "\tValid Loss: 0.494\tValid Acc: 24.27%\n",
      "\tModel parameters saved to unif-20.pt\n"
     ]
    },
    {
     "name": "stderr",
     "output_type": "stream",
     "text": [
      "Epoch 11: 100%|██████████| 95/95 [00:04<00:00, 22.09it/s, Loss=0.474, Acc=0.228]\n"
     ]
    },
    {
     "name": "stdout",
     "output_type": "stream",
     "text": [
      "\tTrain Loss: 0.436\tTrain Acc: 23.22%\n",
      "\tValid Loss: 0.486\tValid Acc: 24.68%\n",
      "\tModel parameters saved to unif-20.pt\n"
     ]
    },
    {
     "name": "stderr",
     "output_type": "stream",
     "text": [
      "Epoch 12: 100%|██████████| 95/95 [00:04<00:00, 22.74it/s, Loss=0.395, Acc=0.248]\n"
     ]
    },
    {
     "name": "stdout",
     "output_type": "stream",
     "text": [
      "\tTrain Loss: 0.422\tTrain Acc: 23.59%\n",
      "\tValid Loss: 0.480\tValid Acc: 25.12%\n",
      "\tModel parameters saved to unif-20.pt\n"
     ]
    },
    {
     "name": "stderr",
     "output_type": "stream",
     "text": [
      "Epoch 13: 100%|██████████| 95/95 [00:04<00:00, 22.53it/s, Loss=0.417, Acc=0.257]\n"
     ]
    },
    {
     "name": "stdout",
     "output_type": "stream",
     "text": [
      "\tTrain Loss: 0.409\tTrain Acc: 24.05%\n",
      "\tValid Loss: 0.474\tValid Acc: 25.54%\n",
      "\tModel parameters saved to unif-20.pt\n"
     ]
    },
    {
     "name": "stderr",
     "output_type": "stream",
     "text": [
      "Epoch 14: 100%|██████████| 95/95 [00:04<00:00, 22.40it/s, Loss=0.423, Acc=0.218]\n"
     ]
    },
    {
     "name": "stdout",
     "output_type": "stream",
     "text": [
      "\tTrain Loss: 0.397\tTrain Acc: 24.14%\n",
      "\tValid Loss: 0.471\tValid Acc: 25.75%\n",
      "\tModel parameters saved to unif-20.pt\n"
     ]
    },
    {
     "name": "stderr",
     "output_type": "stream",
     "text": [
      "Epoch 15: 100%|██████████| 95/95 [00:04<00:00, 22.03it/s, Loss=0.378, Acc=0.248]\n"
     ]
    },
    {
     "name": "stdout",
     "output_type": "stream",
     "text": [
      "\tTrain Loss: 0.386\tTrain Acc: 24.22%\n",
      "\tValid Loss: 0.467\tValid Acc: 25.73%\n",
      "\tModel parameters saved to unif-20.pt\n"
     ]
    },
    {
     "name": "stderr",
     "output_type": "stream",
     "text": [
      "Epoch 16: 100%|██████████| 95/95 [00:04<00:00, 22.26it/s, Loss=0.381, Acc=0.246]\n"
     ]
    },
    {
     "name": "stdout",
     "output_type": "stream",
     "text": [
      "\tTrain Loss: 0.375\tTrain Acc: 24.44%\n",
      "\tValid Loss: 0.462\tValid Acc: 25.41%\n",
      "\tModel parameters saved to unif-20.pt\n"
     ]
    },
    {
     "name": "stderr",
     "output_type": "stream",
     "text": [
      "Epoch 17: 100%|██████████| 95/95 [00:04<00:00, 22.96it/s, Loss=0.368, Acc=0.199]\n"
     ]
    },
    {
     "name": "stdout",
     "output_type": "stream",
     "text": [
      "\tTrain Loss: 0.365\tTrain Acc: 24.45%\n",
      "\tValid Loss: 0.461\tValid Acc: 25.31%\n",
      "\tModel parameters saved to unif-20.pt\n"
     ]
    },
    {
     "name": "stderr",
     "output_type": "stream",
     "text": [
      "Epoch 18: 100%|██████████| 95/95 [00:04<00:00, 22.61it/s, Loss=0.387, Acc=0.261]\n"
     ]
    },
    {
     "name": "stdout",
     "output_type": "stream",
     "text": [
      "\tTrain Loss: 0.357\tTrain Acc: 24.82%\n",
      "\tValid Loss: 0.459\tValid Acc: 26.20%\n",
      "\tModel parameters saved to unif-20.pt\n"
     ]
    },
    {
     "name": "stderr",
     "output_type": "stream",
     "text": [
      "Epoch 19: 100%|██████████| 95/95 [00:04<00:00, 22.29it/s, Loss=0.342, Acc=0.281]\n"
     ]
    },
    {
     "name": "stdout",
     "output_type": "stream",
     "text": [
      "\tTrain Loss: 0.347\tTrain Acc: 24.89%\n",
      "\tValid Loss: 0.457\tValid Acc: 25.57%\n",
      "\tModel parameters saved to unif-20.pt\n"
     ]
    },
    {
     "name": "stderr",
     "output_type": "stream",
     "text": [
      "Epoch 20: 100%|██████████| 95/95 [00:04<00:00, 22.32it/s, Loss=0.374, Acc=0.242]\n"
     ]
    },
    {
     "name": "stdout",
     "output_type": "stream",
     "text": [
      "\tTrain Loss: 0.339\tTrain Acc: 25.29%\n",
      "\tValid Loss: 0.459\tValid Acc: 25.85%\n"
     ]
    },
    {
     "name": "stderr",
     "output_type": "stream",
     "text": [
      "Epoch 21: 100%|██████████| 95/95 [00:04<00:00, 23.18it/s, Loss=0.318, Acc=0.25] \n"
     ]
    },
    {
     "name": "stdout",
     "output_type": "stream",
     "text": [
      "\tTrain Loss: 0.331\tTrain Acc: 25.34%\n",
      "\tValid Loss: 0.456\tValid Acc: 26.94%\n",
      "\tModel parameters saved to unif-20.pt\n"
     ]
    },
    {
     "name": "stderr",
     "output_type": "stream",
     "text": [
      "Epoch 22: 100%|██████████| 95/95 [00:04<00:00, 21.54it/s, Loss=0.318, Acc=0.248]\n"
     ]
    },
    {
     "name": "stdout",
     "output_type": "stream",
     "text": [
      "\tTrain Loss: 0.324\tTrain Acc: 25.33%\n",
      "\tValid Loss: 0.459\tValid Acc: 26.57%\n"
     ]
    },
    {
     "name": "stderr",
     "output_type": "stream",
     "text": [
      "Epoch 23: 100%|██████████| 95/95 [00:04<00:00, 20.60it/s, Loss=0.31, Acc=0.268] \n"
     ]
    },
    {
     "name": "stdout",
     "output_type": "stream",
     "text": [
      "\tTrain Loss: 0.318\tTrain Acc: 25.44%\n",
      "\tValid Loss: 0.456\tValid Acc: 26.61%\n"
     ]
    },
    {
     "name": "stderr",
     "output_type": "stream",
     "text": [
      "Epoch 24: 100%|██████████| 95/95 [00:04<00:00, 22.07it/s, Loss=0.329, Acc=0.259]\n"
     ]
    },
    {
     "name": "stdout",
     "output_type": "stream",
     "text": [
      "\tTrain Loss: 0.311\tTrain Acc: 25.43%\n",
      "\tValid Loss: 0.457\tValid Acc: 27.00%\n"
     ]
    },
    {
     "name": "stderr",
     "output_type": "stream",
     "text": [
      "Epoch 25: 100%|██████████| 95/95 [00:04<00:00, 21.96it/s, Loss=0.32, Acc=0.264] \n"
     ]
    },
    {
     "name": "stdout",
     "output_type": "stream",
     "text": [
      "\tTrain Loss: 0.305\tTrain Acc: 25.51%\n",
      "\tValid Loss: 0.459\tValid Acc: 26.73%\n"
     ]
    },
    {
     "name": "stderr",
     "output_type": "stream",
     "text": [
      "Epoch 26: 100%|██████████| 95/95 [00:04<00:00, 21.19it/s, Loss=0.319, Acc=0.233]\n"
     ]
    },
    {
     "name": "stdout",
     "output_type": "stream",
     "text": [
      "\tTrain Loss: 0.299\tTrain Acc: 25.47%\n",
      "\tValid Loss: 0.462\tValid Acc: 26.33%\n"
     ]
    },
    {
     "name": "stderr",
     "output_type": "stream",
     "text": [
      "Epoch 27: 100%|██████████| 95/95 [00:04<00:00, 22.72it/s, Loss=0.284, Acc=0.291]\n"
     ]
    },
    {
     "name": "stdout",
     "output_type": "stream",
     "text": [
      "\tTrain Loss: 0.294\tTrain Acc: 25.59%\n",
      "\tValid Loss: 0.462\tValid Acc: 26.73%\n"
     ]
    },
    {
     "name": "stderr",
     "output_type": "stream",
     "text": [
      "Epoch 28: 100%|██████████| 95/95 [00:04<00:00, 23.17it/s, Loss=0.267, Acc=0.308]\n"
     ]
    },
    {
     "name": "stdout",
     "output_type": "stream",
     "text": [
      "\tTrain Loss: 0.288\tTrain Acc: 25.73%\n",
      "\tValid Loss: 0.463\tValid Acc: 27.18%\n"
     ]
    },
    {
     "name": "stderr",
     "output_type": "stream",
     "text": [
      "Epoch 29: 100%|██████████| 95/95 [00:04<00:00, 22.68it/s, Loss=0.28, Acc=0.292] \n"
     ]
    },
    {
     "name": "stdout",
     "output_type": "stream",
     "text": [
      "\tTrain Loss: 0.283\tTrain Acc: 25.80%\n",
      "\tValid Loss: 0.464\tValid Acc: 26.57%\n"
     ]
    },
    {
     "name": "stderr",
     "output_type": "stream",
     "text": [
      "Epoch 30: 100%|██████████| 95/95 [00:04<00:00, 23.59it/s, Loss=0.279, Acc=0.286]\n"
     ]
    },
    {
     "name": "stdout",
     "output_type": "stream",
     "text": [
      "\tTrain Loss: 0.278\tTrain Acc: 25.96%\n",
      "\tValid Loss: 0.467\tValid Acc: 26.29%\n"
     ]
    }
   ],
   "source": [
    "learner.train(epochs=EPOCHS, filename=unif_filename.format(r))"
   ]
  },
  {
   "cell_type": "code",
   "execution_count": 8,
   "metadata": {},
   "outputs": [
    {
     "name": "stdout",
     "output_type": "stream",
     "text": [
      "\t Test Loss: 0.456\t Test Acc: 26.59%\n"
     ]
    }
   ],
   "source": [
    "learner.load_model_params(unif_filename.format(r))\n",
    "learner.print_test_results()"
   ]
  },
  {
   "cell_type": "markdown",
   "metadata": {},
   "source": [
    "### r = 100"
   ]
  },
  {
   "cell_type": "code",
   "execution_count": 9,
   "metadata": {
    "scrolled": true
   },
   "outputs": [],
   "source": [
    "r = 100\n",
    "set_neg_count(r)\n",
    "learner = get_learner()"
   ]
  },
  {
   "cell_type": "code",
   "execution_count": 10,
   "metadata": {},
   "outputs": [
    {
     "name": "stderr",
     "output_type": "stream",
     "text": [
      "Epoch 01: 100%|██████████| 95/95 [00:05<00:00, 16.92it/s, Loss=0.786, Acc=0.0184]\n"
     ]
    },
    {
     "name": "stdout",
     "output_type": "stream",
     "text": [
      "\tTrain Loss: 0.936\tTrain Acc: 2.81%\n",
      "\tValid Loss: 0.766\tValid Acc: 2.74%\n",
      "\tModel parameters saved to unif-100.pt\n"
     ]
    },
    {
     "name": "stderr",
     "output_type": "stream",
     "text": [
      "Epoch 02: 100%|██████████| 95/95 [00:05<00:00, 15.90it/s, Loss=0.711, Acc=0.0901]\n"
     ]
    },
    {
     "name": "stdout",
     "output_type": "stream",
     "text": [
      "\tTrain Loss: 0.732\tTrain Acc: 9.33%\n",
      "\tValid Loss: 0.692\tValid Acc: 11.11%\n",
      "\tModel parameters saved to unif-100.pt\n"
     ]
    },
    {
     "name": "stderr",
     "output_type": "stream",
     "text": [
      "Epoch 03: 100%|██████████| 95/95 [00:05<00:00, 16.48it/s, Loss=0.627, Acc=0.0749]\n"
     ]
    },
    {
     "name": "stdout",
     "output_type": "stream",
     "text": [
      "\tTrain Loss: 0.653\tTrain Acc: 10.37%\n",
      "\tValid Loss: 0.628\tValid Acc: 11.15%\n",
      "\tModel parameters saved to unif-100.pt\n"
     ]
    },
    {
     "name": "stderr",
     "output_type": "stream",
     "text": [
      "Epoch 04: 100%|██████████| 95/95 [00:05<00:00, 16.75it/s, Loss=0.569, Acc=0.127] \n"
     ]
    },
    {
     "name": "stdout",
     "output_type": "stream",
     "text": [
      "\tTrain Loss: 0.599\tTrain Acc: 11.42%\n",
      "\tValid Loss: 0.594\tValid Acc: 11.65%\n",
      "\tModel parameters saved to unif-100.pt\n"
     ]
    },
    {
     "name": "stderr",
     "output_type": "stream",
     "text": [
      "Epoch 05: 100%|██████████| 95/95 [00:05<00:00, 17.40it/s, Loss=0.59, Acc=0.123]  \n"
     ]
    },
    {
     "name": "stdout",
     "output_type": "stream",
     "text": [
      "\tTrain Loss: 0.564\tTrain Acc: 12.20%\n",
      "\tValid Loss: 0.567\tValid Acc: 13.23%\n",
      "\tModel parameters saved to unif-100.pt\n"
     ]
    },
    {
     "name": "stderr",
     "output_type": "stream",
     "text": [
      "Epoch 06: 100%|██████████| 95/95 [00:05<00:00, 16.67it/s, Loss=0.518, Acc=0.177]\n"
     ]
    },
    {
     "name": "stdout",
     "output_type": "stream",
     "text": [
      "\tTrain Loss: 0.536\tTrain Acc: 14.92%\n",
      "\tValid Loss: 0.546\tValid Acc: 21.80%\n",
      "\tModel parameters saved to unif-100.pt\n"
     ]
    },
    {
     "name": "stderr",
     "output_type": "stream",
     "text": [
      "Epoch 07: 100%|██████████| 95/95 [00:05<00:00, 17.51it/s, Loss=0.462, Acc=0.229]\n"
     ]
    },
    {
     "name": "stdout",
     "output_type": "stream",
     "text": [
      "\tTrain Loss: 0.509\tTrain Acc: 20.51%\n",
      "\tValid Loss: 0.526\tValid Acc: 23.89%\n",
      "\tModel parameters saved to unif-100.pt\n"
     ]
    },
    {
     "name": "stderr",
     "output_type": "stream",
     "text": [
      "Epoch 08: 100%|██████████| 95/95 [00:05<00:00, 16.52it/s, Loss=0.51, Acc=0.222] \n"
     ]
    },
    {
     "name": "stdout",
     "output_type": "stream",
     "text": [
      "\tTrain Loss: 0.483\tTrain Acc: 22.62%\n",
      "\tValid Loss: 0.510\tValid Acc: 24.03%\n",
      "\tModel parameters saved to unif-100.pt\n"
     ]
    },
    {
     "name": "stderr",
     "output_type": "stream",
     "text": [
      "Epoch 09: 100%|██████████| 95/95 [00:05<00:00, 17.03it/s, Loss=0.452, Acc=0.227]\n"
     ]
    },
    {
     "name": "stdout",
     "output_type": "stream",
     "text": [
      "\tTrain Loss: 0.461\tTrain Acc: 22.87%\n",
      "\tValid Loss: 0.498\tValid Acc: 24.42%\n",
      "\tModel parameters saved to unif-100.pt\n"
     ]
    },
    {
     "name": "stderr",
     "output_type": "stream",
     "text": [
      "Epoch 10: 100%|██████████| 95/95 [00:05<00:00, 17.67it/s, Loss=0.472, Acc=0.246]\n"
     ]
    },
    {
     "name": "stdout",
     "output_type": "stream",
     "text": [
      "\tTrain Loss: 0.444\tTrain Acc: 23.19%\n",
      "\tValid Loss: 0.489\tValid Acc: 24.56%\n",
      "\tModel parameters saved to unif-100.pt\n"
     ]
    },
    {
     "name": "stderr",
     "output_type": "stream",
     "text": [
      "Epoch 11: 100%|██████████| 95/95 [00:05<00:00, 17.73it/s, Loss=0.384, Acc=0.273]\n"
     ]
    },
    {
     "name": "stdout",
     "output_type": "stream",
     "text": [
      "\tTrain Loss: 0.428\tTrain Acc: 23.75%\n",
      "\tValid Loss: 0.482\tValid Acc: 25.25%\n",
      "\tModel parameters saved to unif-100.pt\n"
     ]
    },
    {
     "name": "stderr",
     "output_type": "stream",
     "text": [
      "Epoch 12: 100%|██████████| 95/95 [00:05<00:00, 17.04it/s, Loss=0.402, Acc=0.25] \n"
     ]
    },
    {
     "name": "stdout",
     "output_type": "stream",
     "text": [
      "\tTrain Loss: 0.415\tTrain Acc: 23.82%\n",
      "\tValid Loss: 0.475\tValid Acc: 25.31%\n",
      "\tModel parameters saved to unif-100.pt\n"
     ]
    },
    {
     "name": "stderr",
     "output_type": "stream",
     "text": [
      "Epoch 13: 100%|██████████| 95/95 [00:05<00:00, 16.88it/s, Loss=0.438, Acc=0.233]\n"
     ]
    },
    {
     "name": "stdout",
     "output_type": "stream",
     "text": [
      "\tTrain Loss: 0.401\tTrain Acc: 24.02%\n",
      "\tValid Loss: 0.470\tValid Acc: 24.48%\n",
      "\tModel parameters saved to unif-100.pt\n"
     ]
    },
    {
     "name": "stderr",
     "output_type": "stream",
     "text": [
      "Epoch 14: 100%|██████████| 95/95 [00:05<00:00, 16.45it/s, Loss=0.365, Acc=0.23] \n"
     ]
    },
    {
     "name": "stdout",
     "output_type": "stream",
     "text": [
      "\tTrain Loss: 0.388\tTrain Acc: 24.33%\n",
      "\tValid Loss: 0.465\tValid Acc: 25.16%\n",
      "\tModel parameters saved to unif-100.pt\n"
     ]
    },
    {
     "name": "stderr",
     "output_type": "stream",
     "text": [
      "Epoch 15: 100%|██████████| 95/95 [00:05<00:00, 16.40it/s, Loss=0.374, Acc=0.236]\n"
     ]
    },
    {
     "name": "stdout",
     "output_type": "stream",
     "text": [
      "\tTrain Loss: 0.378\tTrain Acc: 24.64%\n",
      "\tValid Loss: 0.461\tValid Acc: 26.19%\n",
      "\tModel parameters saved to unif-100.pt\n"
     ]
    },
    {
     "name": "stderr",
     "output_type": "stream",
     "text": [
      "Epoch 16: 100%|██████████| 95/95 [00:05<00:00, 16.98it/s, Loss=0.378, Acc=0.217]\n"
     ]
    },
    {
     "name": "stdout",
     "output_type": "stream",
     "text": [
      "\tTrain Loss: 0.366\tTrain Acc: 24.60%\n",
      "\tValid Loss: 0.459\tValid Acc: 26.09%\n",
      "\tModel parameters saved to unif-100.pt\n"
     ]
    },
    {
     "name": "stderr",
     "output_type": "stream",
     "text": [
      "Epoch 17: 100%|██████████| 95/95 [00:05<00:00, 16.58it/s, Loss=0.346, Acc=0.254]\n"
     ]
    },
    {
     "name": "stdout",
     "output_type": "stream",
     "text": [
      "\tTrain Loss: 0.356\tTrain Acc: 24.63%\n",
      "\tValid Loss: 0.458\tValid Acc: 26.35%\n",
      "\tModel parameters saved to unif-100.pt\n"
     ]
    },
    {
     "name": "stderr",
     "output_type": "stream",
     "text": [
      "Epoch 18: 100%|██████████| 95/95 [00:05<00:00, 17.62it/s, Loss=0.393, Acc=0.222]\n"
     ]
    },
    {
     "name": "stdout",
     "output_type": "stream",
     "text": [
      "\tTrain Loss: 0.348\tTrain Acc: 24.93%\n",
      "\tValid Loss: 0.456\tValid Acc: 26.27%\n",
      "\tModel parameters saved to unif-100.pt\n"
     ]
    },
    {
     "name": "stderr",
     "output_type": "stream",
     "text": [
      "Epoch 19: 100%|██████████| 95/95 [00:05<00:00, 16.97it/s, Loss=0.325, Acc=0.238]\n"
     ]
    },
    {
     "name": "stdout",
     "output_type": "stream",
     "text": [
      "\tTrain Loss: 0.338\tTrain Acc: 25.14%\n",
      "\tValid Loss: 0.456\tValid Acc: 26.15%\n"
     ]
    },
    {
     "name": "stderr",
     "output_type": "stream",
     "text": [
      "Epoch 20: 100%|██████████| 95/95 [00:05<00:00, 16.58it/s, Loss=0.344, Acc=0.278]\n"
     ]
    },
    {
     "name": "stdout",
     "output_type": "stream",
     "text": [
      "\tTrain Loss: 0.330\tTrain Acc: 25.24%\n",
      "\tValid Loss: 0.457\tValid Acc: 26.89%\n"
     ]
    },
    {
     "name": "stderr",
     "output_type": "stream",
     "text": [
      "Epoch 21: 100%|██████████| 95/95 [00:05<00:00, 17.92it/s, Loss=0.294, Acc=0.281]\n"
     ]
    },
    {
     "name": "stdout",
     "output_type": "stream",
     "text": [
      "\tTrain Loss: 0.323\tTrain Acc: 25.43%\n",
      "\tValid Loss: 0.455\tValid Acc: 26.71%\n",
      "\tModel parameters saved to unif-100.pt\n"
     ]
    },
    {
     "name": "stderr",
     "output_type": "stream",
     "text": [
      "Epoch 22: 100%|██████████| 95/95 [00:05<00:00, 17.17it/s, Loss=0.316, Acc=0.254]\n"
     ]
    },
    {
     "name": "stdout",
     "output_type": "stream",
     "text": [
      "\tTrain Loss: 0.314\tTrain Acc: 25.34%\n",
      "\tValid Loss: 0.455\tValid Acc: 27.23%\n",
      "\tModel parameters saved to unif-100.pt\n"
     ]
    },
    {
     "name": "stderr",
     "output_type": "stream",
     "text": [
      "Epoch 23: 100%|██████████| 95/95 [00:05<00:00, 16.20it/s, Loss=0.334, Acc=0.279]\n"
     ]
    },
    {
     "name": "stdout",
     "output_type": "stream",
     "text": [
      "\tTrain Loss: 0.307\tTrain Acc: 25.76%\n",
      "\tValid Loss: 0.455\tValid Acc: 26.38%\n"
     ]
    },
    {
     "name": "stderr",
     "output_type": "stream",
     "text": [
      "Epoch 24: 100%|██████████| 95/95 [00:05<00:00, 16.73it/s, Loss=0.344, Acc=0.246]\n"
     ]
    },
    {
     "name": "stdout",
     "output_type": "stream",
     "text": [
      "\tTrain Loss: 0.301\tTrain Acc: 25.66%\n",
      "\tValid Loss: 0.458\tValid Acc: 27.32%\n"
     ]
    },
    {
     "name": "stderr",
     "output_type": "stream",
     "text": [
      "Epoch 25: 100%|██████████| 95/95 [00:05<00:00, 16.67it/s, Loss=0.29, Acc=0.233] \n"
     ]
    },
    {
     "name": "stdout",
     "output_type": "stream",
     "text": [
      "\tTrain Loss: 0.295\tTrain Acc: 25.90%\n",
      "\tValid Loss: 0.456\tValid Acc: 27.36%\n"
     ]
    },
    {
     "name": "stderr",
     "output_type": "stream",
     "text": [
      "Epoch 26: 100%|██████████| 95/95 [00:05<00:00, 16.53it/s, Loss=0.268, Acc=0.242]\n"
     ]
    },
    {
     "name": "stdout",
     "output_type": "stream",
     "text": [
      "\tTrain Loss: 0.288\tTrain Acc: 25.99%\n",
      "\tValid Loss: 0.455\tValid Acc: 26.37%\n"
     ]
    },
    {
     "name": "stderr",
     "output_type": "stream",
     "text": [
      "Epoch 27: 100%|██████████| 95/95 [00:05<00:00, 16.63it/s, Loss=0.284, Acc=0.282]\n"
     ]
    },
    {
     "name": "stdout",
     "output_type": "stream",
     "text": [
      "\tTrain Loss: 0.283\tTrain Acc: 26.01%\n",
      "\tValid Loss: 0.460\tValid Acc: 27.66%\n"
     ]
    },
    {
     "name": "stderr",
     "output_type": "stream",
     "text": [
      "Epoch 28: 100%|██████████| 95/95 [00:05<00:00, 16.01it/s, Loss=0.266, Acc=0.286]\n"
     ]
    },
    {
     "name": "stdout",
     "output_type": "stream",
     "text": [
      "\tTrain Loss: 0.277\tTrain Acc: 25.81%\n",
      "\tValid Loss: 0.461\tValid Acc: 27.47%\n"
     ]
    },
    {
     "name": "stderr",
     "output_type": "stream",
     "text": [
      "Epoch 29: 100%|██████████| 95/95 [00:05<00:00, 17.12it/s, Loss=0.299, Acc=0.26] \n"
     ]
    },
    {
     "name": "stdout",
     "output_type": "stream",
     "text": [
      "\tTrain Loss: 0.272\tTrain Acc: 25.80%\n",
      "\tValid Loss: 0.464\tValid Acc: 27.82%\n"
     ]
    },
    {
     "name": "stderr",
     "output_type": "stream",
     "text": [
      "Epoch 30: 100%|██████████| 95/95 [00:05<00:00, 16.13it/s, Loss=0.276, Acc=0.27] \n"
     ]
    },
    {
     "name": "stdout",
     "output_type": "stream",
     "text": [
      "\tTrain Loss: 0.266\tTrain Acc: 26.15%\n",
      "\tValid Loss: 0.468\tValid Acc: 27.74%\n"
     ]
    }
   ],
   "source": [
    "learner.train(epochs=EPOCHS, filename=unif_filename.format(r))"
   ]
  },
  {
   "cell_type": "code",
   "execution_count": 11,
   "metadata": {},
   "outputs": [
    {
     "name": "stdout",
     "output_type": "stream",
     "text": [
      "\t Test Loss: 0.452\t Test Acc: 26.80%\n"
     ]
    }
   ],
   "source": [
    "learner.load_model_params(unif_filename.format(r))\n",
    "learner.print_test_results()"
   ]
  },
  {
   "cell_type": "markdown",
   "metadata": {},
   "source": [
    "### r = 500"
   ]
  },
  {
   "cell_type": "code",
   "execution_count": 12,
   "metadata": {
    "scrolled": true
   },
   "outputs": [],
   "source": [
    "r = 500\n",
    "set_neg_count(r)\n",
    "learner = get_learner()"
   ]
  },
  {
   "cell_type": "code",
   "execution_count": 13,
   "metadata": {},
   "outputs": [
    {
     "name": "stderr",
     "output_type": "stream",
     "text": [
      "Epoch 01: 100%|██████████| 95/95 [00:11<00:00,  8.51it/s, Loss=0.719, Acc=0.0219] \n"
     ]
    },
    {
     "name": "stdout",
     "output_type": "stream",
     "text": [
      "\tTrain Loss: 0.934\tTrain Acc: 2.70%\n",
      "\tValid Loss: 0.767\tValid Acc: 2.74%\n",
      "\tModel parameters saved to unif-500.pt\n"
     ]
    },
    {
     "name": "stderr",
     "output_type": "stream",
     "text": [
      "Epoch 02: 100%|██████████| 95/95 [00:10<00:00,  8.71it/s, Loss=0.712, Acc=0.129] \n"
     ]
    },
    {
     "name": "stdout",
     "output_type": "stream",
     "text": [
      "\tTrain Loss: 0.730\tTrain Acc: 9.72%\n",
      "\tValid Loss: 0.691\tValid Acc: 11.11%\n",
      "\tModel parameters saved to unif-500.pt\n"
     ]
    },
    {
     "name": "stderr",
     "output_type": "stream",
     "text": [
      "Epoch 03: 100%|██████████| 95/95 [00:10<00:00,  8.91it/s, Loss=0.625, Acc=0.101] \n"
     ]
    },
    {
     "name": "stdout",
     "output_type": "stream",
     "text": [
      "\tTrain Loss: 0.652\tTrain Acc: 10.51%\n",
      "\tValid Loss: 0.627\tValid Acc: 11.03%\n",
      "\tModel parameters saved to unif-500.pt\n"
     ]
    },
    {
     "name": "stderr",
     "output_type": "stream",
     "text": [
      "Epoch 04: 100%|██████████| 95/95 [00:11<00:00,  8.48it/s, Loss=0.572, Acc=0.138] \n"
     ]
    },
    {
     "name": "stdout",
     "output_type": "stream",
     "text": [
      "\tTrain Loss: 0.598\tTrain Acc: 11.46%\n",
      "\tValid Loss: 0.591\tValid Acc: 12.38%\n",
      "\tModel parameters saved to unif-500.pt\n"
     ]
    },
    {
     "name": "stderr",
     "output_type": "stream",
     "text": [
      "Epoch 05: 100%|██████████| 95/95 [00:10<00:00,  8.66it/s, Loss=0.525, Acc=0.117] \n"
     ]
    },
    {
     "name": "stdout",
     "output_type": "stream",
     "text": [
      "\tTrain Loss: 0.563\tTrain Acc: 12.35%\n",
      "\tValid Loss: 0.568\tValid Acc: 13.41%\n",
      "\tModel parameters saved to unif-500.pt\n"
     ]
    },
    {
     "name": "stderr",
     "output_type": "stream",
     "text": [
      "Epoch 06: 100%|██████████| 95/95 [00:10<00:00,  8.76it/s, Loss=0.486, Acc=0.175]\n"
     ]
    },
    {
     "name": "stdout",
     "output_type": "stream",
     "text": [
      "\tTrain Loss: 0.533\tTrain Acc: 15.33%\n",
      "\tValid Loss: 0.544\tValid Acc: 22.51%\n",
      "\tModel parameters saved to unif-500.pt\n"
     ]
    },
    {
     "name": "stderr",
     "output_type": "stream",
     "text": [
      "Epoch 07: 100%|██████████| 95/95 [00:11<00:00,  8.64it/s, Loss=0.495, Acc=0.217]\n"
     ]
    },
    {
     "name": "stdout",
     "output_type": "stream",
     "text": [
      "\tTrain Loss: 0.506\tTrain Acc: 21.98%\n",
      "\tValid Loss: 0.523\tValid Acc: 23.38%\n",
      "\tModel parameters saved to unif-500.pt\n"
     ]
    },
    {
     "name": "stderr",
     "output_type": "stream",
     "text": [
      "Epoch 08: 100%|██████████| 95/95 [00:11<00:00,  8.60it/s, Loss=0.435, Acc=0.229]\n"
     ]
    },
    {
     "name": "stdout",
     "output_type": "stream",
     "text": [
      "\tTrain Loss: 0.480\tTrain Acc: 22.52%\n",
      "\tValid Loss: 0.508\tValid Acc: 24.07%\n",
      "\tModel parameters saved to unif-500.pt\n"
     ]
    },
    {
     "name": "stderr",
     "output_type": "stream",
     "text": [
      "Epoch 09: 100%|██████████| 95/95 [00:10<00:00,  8.86it/s, Loss=0.414, Acc=0.26] \n"
     ]
    },
    {
     "name": "stdout",
     "output_type": "stream",
     "text": [
      "\tTrain Loss: 0.458\tTrain Acc: 22.91%\n",
      "\tValid Loss: 0.497\tValid Acc: 24.12%\n",
      "\tModel parameters saved to unif-500.pt\n"
     ]
    },
    {
     "name": "stderr",
     "output_type": "stream",
     "text": [
      "Epoch 10: 100%|██████████| 95/95 [00:11<00:00,  8.63it/s, Loss=0.467, Acc=0.26] \n"
     ]
    },
    {
     "name": "stdout",
     "output_type": "stream",
     "text": [
      "\tTrain Loss: 0.441\tTrain Acc: 23.19%\n",
      "\tValid Loss: 0.486\tValid Acc: 24.75%\n",
      "\tModel parameters saved to unif-500.pt\n"
     ]
    },
    {
     "name": "stderr",
     "output_type": "stream",
     "text": [
      "Epoch 11: 100%|██████████| 95/95 [00:11<00:00,  8.44it/s, Loss=0.413, Acc=0.255]\n"
     ]
    },
    {
     "name": "stdout",
     "output_type": "stream",
     "text": [
      "\tTrain Loss: 0.425\tTrain Acc: 23.47%\n",
      "\tValid Loss: 0.479\tValid Acc: 23.74%\n",
      "\tModel parameters saved to unif-500.pt\n"
     ]
    },
    {
     "name": "stderr",
     "output_type": "stream",
     "text": [
      "Epoch 12: 100%|██████████| 95/95 [00:10<00:00,  8.76it/s, Loss=0.39, Acc=0.242] \n"
     ]
    },
    {
     "name": "stdout",
     "output_type": "stream",
     "text": [
      "\tTrain Loss: 0.410\tTrain Acc: 23.74%\n",
      "\tValid Loss: 0.473\tValid Acc: 25.52%\n",
      "\tModel parameters saved to unif-500.pt\n"
     ]
    },
    {
     "name": "stderr",
     "output_type": "stream",
     "text": [
      "Epoch 13: 100%|██████████| 95/95 [00:11<00:00,  8.56it/s, Loss=0.398, Acc=0.249]\n"
     ]
    },
    {
     "name": "stdout",
     "output_type": "stream",
     "text": [
      "\tTrain Loss: 0.398\tTrain Acc: 24.03%\n",
      "\tValid Loss: 0.468\tValid Acc: 25.79%\n",
      "\tModel parameters saved to unif-500.pt\n"
     ]
    },
    {
     "name": "stderr",
     "output_type": "stream",
     "text": [
      "Epoch 14: 100%|██████████| 95/95 [00:11<00:00,  8.51it/s, Loss=0.381, Acc=0.238]\n"
     ]
    },
    {
     "name": "stdout",
     "output_type": "stream",
     "text": [
      "\tTrain Loss: 0.385\tTrain Acc: 24.44%\n",
      "\tValid Loss: 0.463\tValid Acc: 26.28%\n",
      "\tModel parameters saved to unif-500.pt\n"
     ]
    },
    {
     "name": "stderr",
     "output_type": "stream",
     "text": [
      "Epoch 15: 100%|██████████| 95/95 [00:10<00:00,  8.79it/s, Loss=0.414, Acc=0.234]\n"
     ]
    },
    {
     "name": "stdout",
     "output_type": "stream",
     "text": [
      "\tTrain Loss: 0.374\tTrain Acc: 24.50%\n",
      "\tValid Loss: 0.461\tValid Acc: 26.34%\n",
      "\tModel parameters saved to unif-500.pt\n"
     ]
    },
    {
     "name": "stderr",
     "output_type": "stream",
     "text": [
      "Epoch 16: 100%|██████████| 95/95 [00:11<00:00,  8.55it/s, Loss=0.403, Acc=0.265]\n"
     ]
    },
    {
     "name": "stdout",
     "output_type": "stream",
     "text": [
      "\tTrain Loss: 0.363\tTrain Acc: 24.65%\n",
      "\tValid Loss: 0.457\tValid Acc: 26.34%\n",
      "\tModel parameters saved to unif-500.pt\n"
     ]
    },
    {
     "name": "stderr",
     "output_type": "stream",
     "text": [
      "Epoch 17: 100%|██████████| 95/95 [00:10<00:00,  8.85it/s, Loss=0.37, Acc=0.266] \n"
     ]
    },
    {
     "name": "stdout",
     "output_type": "stream",
     "text": [
      "\tTrain Loss: 0.354\tTrain Acc: 25.01%\n",
      "\tValid Loss: 0.457\tValid Acc: 26.38%\n",
      "\tModel parameters saved to unif-500.pt\n"
     ]
    },
    {
     "name": "stderr",
     "output_type": "stream",
     "text": [
      "Epoch 18: 100%|██████████| 95/95 [00:10<00:00,  8.78it/s, Loss=0.323, Acc=0.288]\n"
     ]
    },
    {
     "name": "stdout",
     "output_type": "stream",
     "text": [
      "\tTrain Loss: 0.345\tTrain Acc: 24.98%\n",
      "\tValid Loss: 0.455\tValid Acc: 26.71%\n",
      "\tModel parameters saved to unif-500.pt\n"
     ]
    },
    {
     "name": "stderr",
     "output_type": "stream",
     "text": [
      "Epoch 19: 100%|██████████| 95/95 [00:11<00:00,  8.57it/s, Loss=0.348, Acc=0.248]\n"
     ]
    },
    {
     "name": "stdout",
     "output_type": "stream",
     "text": [
      "\tTrain Loss: 0.335\tTrain Acc: 25.07%\n",
      "\tValid Loss: 0.454\tValid Acc: 26.69%\n",
      "\tModel parameters saved to unif-500.pt\n"
     ]
    },
    {
     "name": "stderr",
     "output_type": "stream",
     "text": [
      "Epoch 20: 100%|██████████| 95/95 [00:10<00:00,  8.65it/s, Loss=0.325, Acc=0.267]\n"
     ]
    },
    {
     "name": "stdout",
     "output_type": "stream",
     "text": [
      "\tTrain Loss: 0.327\tTrain Acc: 25.24%\n",
      "\tValid Loss: 0.454\tValid Acc: 26.81%\n"
     ]
    },
    {
     "name": "stderr",
     "output_type": "stream",
     "text": [
      "Epoch 21: 100%|██████████| 95/95 [00:11<00:00,  8.55it/s, Loss=0.309, Acc=0.31] \n"
     ]
    },
    {
     "name": "stdout",
     "output_type": "stream",
     "text": [
      "\tTrain Loss: 0.320\tTrain Acc: 25.63%\n",
      "\tValid Loss: 0.454\tValid Acc: 26.88%\n"
     ]
    },
    {
     "name": "stderr",
     "output_type": "stream",
     "text": [
      "Epoch 22: 100%|██████████| 95/95 [00:10<00:00,  8.69it/s, Loss=0.294, Acc=0.245]\n"
     ]
    },
    {
     "name": "stdout",
     "output_type": "stream",
     "text": [
      "\tTrain Loss: 0.312\tTrain Acc: 25.48%\n",
      "\tValid Loss: 0.456\tValid Acc: 27.01%\n"
     ]
    },
    {
     "name": "stderr",
     "output_type": "stream",
     "text": [
      "Epoch 23: 100%|██████████| 95/95 [00:10<00:00,  8.69it/s, Loss=0.313, Acc=0.258]\n"
     ]
    },
    {
     "name": "stdout",
     "output_type": "stream",
     "text": [
      "\tTrain Loss: 0.305\tTrain Acc: 25.59%\n",
      "\tValid Loss: 0.455\tValid Acc: 27.01%\n"
     ]
    },
    {
     "name": "stderr",
     "output_type": "stream",
     "text": [
      "Epoch 24: 100%|██████████| 95/95 [00:11<00:00,  8.61it/s, Loss=0.276, Acc=0.23] \n"
     ]
    },
    {
     "name": "stdout",
     "output_type": "stream",
     "text": [
      "\tTrain Loss: 0.299\tTrain Acc: 25.93%\n",
      "\tValid Loss: 0.457\tValid Acc: 27.11%\n"
     ]
    },
    {
     "name": "stderr",
     "output_type": "stream",
     "text": [
      "Epoch 25: 100%|██████████| 95/95 [00:10<00:00,  8.64it/s, Loss=0.276, Acc=0.256]\n"
     ]
    },
    {
     "name": "stdout",
     "output_type": "stream",
     "text": [
      "\tTrain Loss: 0.293\tTrain Acc: 25.85%\n",
      "\tValid Loss: 0.457\tValid Acc: 27.15%\n"
     ]
    },
    {
     "name": "stderr",
     "output_type": "stream",
     "text": [
      "Epoch 26: 100%|██████████| 95/95 [00:10<00:00,  8.75it/s, Loss=0.287, Acc=0.261]\n"
     ]
    },
    {
     "name": "stdout",
     "output_type": "stream",
     "text": [
      "\tTrain Loss: 0.286\tTrain Acc: 26.03%\n",
      "\tValid Loss: 0.459\tValid Acc: 27.30%\n"
     ]
    },
    {
     "name": "stderr",
     "output_type": "stream",
     "text": [
      "Epoch 27: 100%|██████████| 95/95 [00:10<00:00,  8.75it/s, Loss=0.294, Acc=0.243]\n"
     ]
    },
    {
     "name": "stdout",
     "output_type": "stream",
     "text": [
      "\tTrain Loss: 0.280\tTrain Acc: 25.88%\n",
      "\tValid Loss: 0.463\tValid Acc: 27.10%\n"
     ]
    },
    {
     "name": "stderr",
     "output_type": "stream",
     "text": [
      "Epoch 28: 100%|██████████| 95/95 [00:10<00:00,  8.75it/s, Loss=0.272, Acc=0.271]\n"
     ]
    },
    {
     "name": "stdout",
     "output_type": "stream",
     "text": [
      "\tTrain Loss: 0.275\tTrain Acc: 25.99%\n",
      "\tValid Loss: 0.465\tValid Acc: 27.43%\n"
     ]
    },
    {
     "name": "stderr",
     "output_type": "stream",
     "text": [
      "Epoch 29: 100%|██████████| 95/95 [00:10<00:00,  8.74it/s, Loss=0.293, Acc=0.237]\n"
     ]
    },
    {
     "name": "stdout",
     "output_type": "stream",
     "text": [
      "\tTrain Loss: 0.271\tTrain Acc: 25.98%\n",
      "\tValid Loss: 0.467\tValid Acc: 27.64%\n"
     ]
    },
    {
     "name": "stderr",
     "output_type": "stream",
     "text": [
      "Epoch 30: 100%|██████████| 95/95 [00:10<00:00,  8.64it/s, Loss=0.245, Acc=0.258]\n"
     ]
    },
    {
     "name": "stdout",
     "output_type": "stream",
     "text": [
      "\tTrain Loss: 0.265\tTrain Acc: 26.08%\n",
      "\tValid Loss: 0.470\tValid Acc: 27.69%\n"
     ]
    }
   ],
   "source": [
    "learner.train(epochs=EPOCHS, filename=unif_filename.format(r))"
   ]
  },
  {
   "cell_type": "code",
   "execution_count": 14,
   "metadata": {},
   "outputs": [
    {
     "name": "stdout",
     "output_type": "stream",
     "text": [
      "\t Test Loss: 0.456\t Test Acc: 26.22%\n"
     ]
    }
   ],
   "source": [
    "learner.load_model_params(unif_filename.format(r))\n",
    "learner.print_test_results()"
   ]
  },
  {
   "cell_type": "markdown",
   "metadata": {},
   "source": [
    "# UNIG-f sampling"
   ]
  },
  {
   "cell_type": "code",
   "execution_count": 15,
   "metadata": {},
   "outputs": [],
   "source": [
    "set_neg_count(20)\n",
    "unig_filename = 'unig-f{:d}.pt'"
   ]
  },
  {
   "cell_type": "markdown",
   "metadata": {},
   "source": [
    "### f = 0.25"
   ]
  },
  {
   "cell_type": "code",
   "execution_count": 16,
   "metadata": {
    "scrolled": true
   },
   "outputs": [],
   "source": [
    "f = 0.25\n",
    "int_f = int(f * 100)\n",
    "set_sample_pow(f)\n",
    "learner = get_learner()"
   ]
  },
  {
   "cell_type": "code",
   "execution_count": 17,
   "metadata": {},
   "outputs": [
    {
     "name": "stderr",
     "output_type": "stream",
     "text": [
      "Epoch 01: 100%|██████████| 95/95 [00:05<00:00, 18.47it/s, Loss=0.944, Acc=0.146] \n"
     ]
    },
    {
     "name": "stdout",
     "output_type": "stream",
     "text": [
      "\tTrain Loss: 1.054\tTrain Acc: 8.23%\n",
      "\tValid Loss: 0.904\tValid Acc: 11.11%\n",
      "\tModel parameters saved to unig-f25.pt\n"
     ]
    },
    {
     "name": "stderr",
     "output_type": "stream",
     "text": [
      "Epoch 02: 100%|██████████| 95/95 [00:05<00:00, 18.02it/s, Loss=0.804, Acc=0.116] \n"
     ]
    },
    {
     "name": "stdout",
     "output_type": "stream",
     "text": [
      "\tTrain Loss: 0.846\tTrain Acc: 11.06%\n",
      "\tValid Loss: 0.789\tValid Acc: 12.29%\n",
      "\tModel parameters saved to unig-f25.pt\n"
     ]
    },
    {
     "name": "stderr",
     "output_type": "stream",
     "text": [
      "Epoch 03: 100%|██████████| 95/95 [00:05<00:00, 18.26it/s, Loss=0.72, Acc=0.168]  \n"
     ]
    },
    {
     "name": "stdout",
     "output_type": "stream",
     "text": [
      "\tTrain Loss: 0.745\tTrain Acc: 13.97%\n",
      "\tValid Loss: 0.713\tValid Acc: 21.50%\n",
      "\tModel parameters saved to unig-f25.pt\n"
     ]
    },
    {
     "name": "stderr",
     "output_type": "stream",
     "text": [
      "Epoch 04: 100%|██████████| 95/95 [00:05<00:00, 18.94it/s, Loss=0.678, Acc=0.23] \n"
     ]
    },
    {
     "name": "stdout",
     "output_type": "stream",
     "text": [
      "\tTrain Loss: 0.685\tTrain Acc: 21.84%\n",
      "\tValid Loss: 0.670\tValid Acc: 23.53%\n",
      "\tModel parameters saved to unig-f25.pt\n"
     ]
    },
    {
     "name": "stderr",
     "output_type": "stream",
     "text": [
      "Epoch 05: 100%|██████████| 95/95 [00:05<00:00, 18.43it/s, Loss=0.616, Acc=0.235]\n"
     ]
    },
    {
     "name": "stdout",
     "output_type": "stream",
     "text": [
      "\tTrain Loss: 0.639\tTrain Acc: 22.90%\n",
      "\tValid Loss: 0.631\tValid Acc: 24.27%\n",
      "\tModel parameters saved to unig-f25.pt\n"
     ]
    },
    {
     "name": "stderr",
     "output_type": "stream",
     "text": [
      "Epoch 06: 100%|██████████| 95/95 [00:05<00:00, 18.79it/s, Loss=0.601, Acc=0.273]\n"
     ]
    },
    {
     "name": "stdout",
     "output_type": "stream",
     "text": [
      "\tTrain Loss: 0.598\tTrain Acc: 23.45%\n",
      "\tValid Loss: 0.601\tValid Acc: 24.47%\n",
      "\tModel parameters saved to unig-f25.pt\n"
     ]
    },
    {
     "name": "stderr",
     "output_type": "stream",
     "text": [
      "Epoch 07: 100%|██████████| 95/95 [00:05<00:00, 18.58it/s, Loss=0.515, Acc=0.279]\n"
     ]
    },
    {
     "name": "stdout",
     "output_type": "stream",
     "text": [
      "\tTrain Loss: 0.563\tTrain Acc: 24.20%\n",
      "\tValid Loss: 0.579\tValid Acc: 25.30%\n",
      "\tModel parameters saved to unig-f25.pt\n"
     ]
    },
    {
     "name": "stderr",
     "output_type": "stream",
     "text": [
      "Epoch 08: 100%|██████████| 95/95 [00:05<00:00, 18.82it/s, Loss=0.539, Acc=0.25] \n"
     ]
    },
    {
     "name": "stdout",
     "output_type": "stream",
     "text": [
      "\tTrain Loss: 0.537\tTrain Acc: 24.51%\n",
      "\tValid Loss: 0.565\tValid Acc: 25.61%\n",
      "\tModel parameters saved to unig-f25.pt\n"
     ]
    },
    {
     "name": "stderr",
     "output_type": "stream",
     "text": [
      "Epoch 09: 100%|██████████| 95/95 [00:05<00:00, 18.71it/s, Loss=0.492, Acc=0.243]\n"
     ]
    },
    {
     "name": "stdout",
     "output_type": "stream",
     "text": [
      "\tTrain Loss: 0.513\tTrain Acc: 24.90%\n",
      "\tValid Loss: 0.549\tValid Acc: 25.51%\n",
      "\tModel parameters saved to unig-f25.pt\n"
     ]
    },
    {
     "name": "stderr",
     "output_type": "stream",
     "text": [
      "Epoch 10: 100%|██████████| 95/95 [00:05<00:00, 18.90it/s, Loss=0.473, Acc=0.295]\n"
     ]
    },
    {
     "name": "stdout",
     "output_type": "stream",
     "text": [
      "\tTrain Loss: 0.492\tTrain Acc: 25.10%\n",
      "\tValid Loss: 0.539\tValid Acc: 26.44%\n",
      "\tModel parameters saved to unig-f25.pt\n"
     ]
    },
    {
     "name": "stderr",
     "output_type": "stream",
     "text": [
      "Epoch 11: 100%|██████████| 95/95 [00:05<00:00, 18.99it/s, Loss=0.48, Acc=0.274] \n"
     ]
    },
    {
     "name": "stdout",
     "output_type": "stream",
     "text": [
      "\tTrain Loss: 0.472\tTrain Acc: 25.50%\n",
      "\tValid Loss: 0.531\tValid Acc: 26.56%\n",
      "\tModel parameters saved to unig-f25.pt\n"
     ]
    },
    {
     "name": "stderr",
     "output_type": "stream",
     "text": [
      "Epoch 12: 100%|██████████| 95/95 [00:05<00:00, 18.79it/s, Loss=0.482, Acc=0.231]\n"
     ]
    },
    {
     "name": "stdout",
     "output_type": "stream",
     "text": [
      "\tTrain Loss: 0.456\tTrain Acc: 25.67%\n",
      "\tValid Loss: 0.523\tValid Acc: 26.61%\n",
      "\tModel parameters saved to unig-f25.pt\n"
     ]
    },
    {
     "name": "stderr",
     "output_type": "stream",
     "text": [
      "Epoch 13: 100%|██████████| 95/95 [00:05<00:00, 18.67it/s, Loss=0.476, Acc=0.248]\n"
     ]
    },
    {
     "name": "stdout",
     "output_type": "stream",
     "text": [
      "\tTrain Loss: 0.441\tTrain Acc: 25.95%\n",
      "\tValid Loss: 0.521\tValid Acc: 27.12%\n",
      "\tModel parameters saved to unig-f25.pt\n"
     ]
    },
    {
     "name": "stderr",
     "output_type": "stream",
     "text": [
      "Epoch 14: 100%|██████████| 95/95 [00:05<00:00, 18.43it/s, Loss=0.394, Acc=0.255]\n"
     ]
    },
    {
     "name": "stdout",
     "output_type": "stream",
     "text": [
      "\tTrain Loss: 0.426\tTrain Acc: 26.12%\n",
      "\tValid Loss: 0.511\tValid Acc: 27.35%\n",
      "\tModel parameters saved to unig-f25.pt\n"
     ]
    },
    {
     "name": "stderr",
     "output_type": "stream",
     "text": [
      "Epoch 15: 100%|██████████| 95/95 [00:05<00:00, 17.88it/s, Loss=0.459, Acc=0.227]\n"
     ]
    },
    {
     "name": "stdout",
     "output_type": "stream",
     "text": [
      "\tTrain Loss: 0.414\tTrain Acc: 26.18%\n",
      "\tValid Loss: 0.509\tValid Acc: 27.71%\n",
      "\tModel parameters saved to unig-f25.pt\n"
     ]
    },
    {
     "name": "stderr",
     "output_type": "stream",
     "text": [
      "Epoch 16: 100%|██████████| 95/95 [00:05<00:00, 18.68it/s, Loss=0.418, Acc=0.244]\n"
     ]
    },
    {
     "name": "stdout",
     "output_type": "stream",
     "text": [
      "\tTrain Loss: 0.401\tTrain Acc: 26.45%\n",
      "\tValid Loss: 0.503\tValid Acc: 27.59%\n",
      "\tModel parameters saved to unig-f25.pt\n"
     ]
    },
    {
     "name": "stderr",
     "output_type": "stream",
     "text": [
      "Epoch 17: 100%|██████████| 95/95 [00:05<00:00, 17.80it/s, Loss=0.388, Acc=0.251]\n"
     ]
    },
    {
     "name": "stdout",
     "output_type": "stream",
     "text": [
      "\tTrain Loss: 0.391\tTrain Acc: 26.53%\n",
      "\tValid Loss: 0.503\tValid Acc: 28.08%\n"
     ]
    },
    {
     "name": "stderr",
     "output_type": "stream",
     "text": [
      "Epoch 18: 100%|██████████| 95/95 [00:05<00:00, 18.66it/s, Loss=0.385, Acc=0.24] \n"
     ]
    },
    {
     "name": "stdout",
     "output_type": "stream",
     "text": [
      "\tTrain Loss: 0.381\tTrain Acc: 26.54%\n",
      "\tValid Loss: 0.504\tValid Acc: 28.11%\n"
     ]
    },
    {
     "name": "stderr",
     "output_type": "stream",
     "text": [
      "Epoch 19: 100%|██████████| 95/95 [00:05<00:00, 18.59it/s, Loss=0.389, Acc=0.251]\n"
     ]
    },
    {
     "name": "stdout",
     "output_type": "stream",
     "text": [
      "\tTrain Loss: 0.372\tTrain Acc: 27.01%\n",
      "\tValid Loss: 0.504\tValid Acc: 28.19%\n"
     ]
    },
    {
     "name": "stderr",
     "output_type": "stream",
     "text": [
      "Epoch 20: 100%|██████████| 95/95 [00:05<00:00, 17.77it/s, Loss=0.371, Acc=0.294]\n"
     ]
    },
    {
     "name": "stdout",
     "output_type": "stream",
     "text": [
      "\tTrain Loss: 0.362\tTrain Acc: 27.02%\n",
      "\tValid Loss: 0.503\tValid Acc: 28.44%\n",
      "\tModel parameters saved to unig-f25.pt\n"
     ]
    },
    {
     "name": "stderr",
     "output_type": "stream",
     "text": [
      "Epoch 21: 100%|██████████| 95/95 [00:05<00:00, 18.18it/s, Loss=0.376, Acc=0.262]\n"
     ]
    },
    {
     "name": "stdout",
     "output_type": "stream",
     "text": [
      "\tTrain Loss: 0.356\tTrain Acc: 26.93%\n",
      "\tValid Loss: 0.505\tValid Acc: 28.73%\n"
     ]
    },
    {
     "name": "stderr",
     "output_type": "stream",
     "text": [
      "Epoch 22: 100%|██████████| 95/95 [00:05<00:00, 18.55it/s, Loss=0.341, Acc=0.278]\n"
     ]
    },
    {
     "name": "stdout",
     "output_type": "stream",
     "text": [
      "\tTrain Loss: 0.347\tTrain Acc: 27.07%\n",
      "\tValid Loss: 0.505\tValid Acc: 28.03%\n"
     ]
    },
    {
     "name": "stderr",
     "output_type": "stream",
     "text": [
      "Epoch 23: 100%|██████████| 95/95 [00:05<00:00, 18.89it/s, Loss=0.352, Acc=0.289]\n"
     ]
    },
    {
     "name": "stdout",
     "output_type": "stream",
     "text": [
      "\tTrain Loss: 0.340\tTrain Acc: 27.25%\n",
      "\tValid Loss: 0.505\tValid Acc: 28.70%\n"
     ]
    },
    {
     "name": "stderr",
     "output_type": "stream",
     "text": [
      "Epoch 24: 100%|██████████| 95/95 [00:05<00:00, 18.39it/s, Loss=0.349, Acc=0.266]\n"
     ]
    },
    {
     "name": "stdout",
     "output_type": "stream",
     "text": [
      "\tTrain Loss: 0.333\tTrain Acc: 26.95%\n",
      "\tValid Loss: 0.507\tValid Acc: 28.73%\n"
     ]
    },
    {
     "name": "stderr",
     "output_type": "stream",
     "text": [
      "Epoch 25: 100%|██████████| 95/95 [00:05<00:00, 18.82it/s, Loss=0.3, Acc=0.295]  \n"
     ]
    },
    {
     "name": "stdout",
     "output_type": "stream",
     "text": [
      "\tTrain Loss: 0.327\tTrain Acc: 27.37%\n",
      "\tValid Loss: 0.509\tValid Acc: 28.75%\n"
     ]
    },
    {
     "name": "stderr",
     "output_type": "stream",
     "text": [
      "Epoch 26: 100%|██████████| 95/95 [00:05<00:00, 17.29it/s, Loss=0.309, Acc=0.267]\n"
     ]
    },
    {
     "name": "stdout",
     "output_type": "stream",
     "text": [
      "\tTrain Loss: 0.321\tTrain Acc: 27.24%\n",
      "\tValid Loss: 0.510\tValid Acc: 28.97%\n"
     ]
    },
    {
     "name": "stderr",
     "output_type": "stream",
     "text": [
      "Epoch 27: 100%|██████████| 95/95 [00:05<00:00, 17.90it/s, Loss=0.283, Acc=0.294]\n"
     ]
    },
    {
     "name": "stdout",
     "output_type": "stream",
     "text": [
      "\tTrain Loss: 0.316\tTrain Acc: 27.28%\n",
      "\tValid Loss: 0.517\tValid Acc: 29.18%\n"
     ]
    },
    {
     "name": "stderr",
     "output_type": "stream",
     "text": [
      "Epoch 28: 100%|██████████| 95/95 [00:05<00:00, 18.65it/s, Loss=0.3, Acc=0.274]  \n"
     ]
    },
    {
     "name": "stdout",
     "output_type": "stream",
     "text": [
      "\tTrain Loss: 0.309\tTrain Acc: 27.53%\n",
      "\tValid Loss: 0.519\tValid Acc: 28.91%\n"
     ]
    },
    {
     "name": "stderr",
     "output_type": "stream",
     "text": [
      "Epoch 29: 100%|██████████| 95/95 [00:05<00:00, 17.85it/s, Loss=0.269, Acc=0.308]\n"
     ]
    },
    {
     "name": "stdout",
     "output_type": "stream",
     "text": [
      "\tTrain Loss: 0.306\tTrain Acc: 27.38%\n",
      "\tValid Loss: 0.519\tValid Acc: 29.06%\n"
     ]
    },
    {
     "name": "stderr",
     "output_type": "stream",
     "text": [
      "Epoch 30: 100%|██████████| 95/95 [00:05<00:00, 17.95it/s, Loss=0.308, Acc=0.287]\n"
     ]
    },
    {
     "name": "stdout",
     "output_type": "stream",
     "text": [
      "\tTrain Loss: 0.300\tTrain Acc: 27.33%\n",
      "\tValid Loss: 0.520\tValid Acc: 29.18%\n"
     ]
    }
   ],
   "source": [
    "learner.train(epochs=EPOCHS, filename=unig_filename.format(int_f))"
   ]
  },
  {
   "cell_type": "code",
   "execution_count": 18,
   "metadata": {},
   "outputs": [
    {
     "name": "stdout",
     "output_type": "stream",
     "text": [
      "\t Test Loss: 0.495\t Test Acc: 27.88%\n"
     ]
    }
   ],
   "source": [
    "learner.load_model_params(unig_filename.format(int_f))\n",
    "learner.print_test_results()"
   ]
  },
  {
   "cell_type": "markdown",
   "metadata": {},
   "source": [
    "### f = 0.5"
   ]
  },
  {
   "cell_type": "code",
   "execution_count": 19,
   "metadata": {
    "scrolled": true
   },
   "outputs": [],
   "source": [
    "f = 0.5\n",
    "int_f = int(f * 100)\n",
    "set_sample_pow(f)\n",
    "learner = get_learner()"
   ]
  },
  {
   "cell_type": "code",
   "execution_count": 20,
   "metadata": {},
   "outputs": [
    {
     "name": "stderr",
     "output_type": "stream",
     "text": [
      "Epoch 01: 100%|██████████| 95/95 [00:04<00:00, 22.68it/s, Loss=1.05, Acc=0.135] \n"
     ]
    },
    {
     "name": "stdout",
     "output_type": "stream",
     "text": [
      "\tTrain Loss: 1.181\tTrain Acc: 8.62%\n",
      "\tValid Loss: 1.071\tValid Acc: 11.11%\n",
      "\tModel parameters saved to unig-f50.pt\n"
     ]
    },
    {
     "name": "stderr",
     "output_type": "stream",
     "text": [
      "Epoch 02: 100%|██████████| 95/95 [00:04<00:00, 20.74it/s, Loss=0.832, Acc=0.202] \n"
     ]
    },
    {
     "name": "stdout",
     "output_type": "stream",
     "text": [
      "\tTrain Loss: 0.970\tTrain Acc: 13.57%\n",
      "\tValid Loss: 0.880\tValid Acc: 20.51%\n",
      "\tModel parameters saved to unig-f50.pt\n"
     ]
    },
    {
     "name": "stderr",
     "output_type": "stream",
     "text": [
      "Epoch 03: 100%|██████████| 95/95 [00:04<00:00, 22.62it/s, Loss=0.772, Acc=0.241]\n"
     ]
    },
    {
     "name": "stdout",
     "output_type": "stream",
     "text": [
      "\tTrain Loss: 0.822\tTrain Acc: 21.27%\n",
      "\tValid Loss: 0.767\tValid Acc: 24.18%\n",
      "\tModel parameters saved to unig-f50.pt\n"
     ]
    },
    {
     "name": "stderr",
     "output_type": "stream",
     "text": [
      "Epoch 04: 100%|██████████| 95/95 [00:04<00:00, 23.30it/s, Loss=0.673, Acc=0.241]\n"
     ]
    },
    {
     "name": "stdout",
     "output_type": "stream",
     "text": [
      "\tTrain Loss: 0.724\tTrain Acc: 23.48%\n",
      "\tValid Loss: 0.698\tValid Acc: 25.54%\n",
      "\tModel parameters saved to unig-f50.pt\n"
     ]
    },
    {
     "name": "stderr",
     "output_type": "stream",
     "text": [
      "Epoch 05: 100%|██████████| 95/95 [00:04<00:00, 22.58it/s, Loss=0.718, Acc=0.263]\n"
     ]
    },
    {
     "name": "stdout",
     "output_type": "stream",
     "text": [
      "\tTrain Loss: 0.660\tTrain Acc: 24.73%\n",
      "\tValid Loss: 0.654\tValid Acc: 26.15%\n",
      "\tModel parameters saved to unig-f50.pt\n"
     ]
    },
    {
     "name": "stderr",
     "output_type": "stream",
     "text": [
      "Epoch 06: 100%|██████████| 95/95 [00:04<00:00, 23.23it/s, Loss=0.603, Acc=0.282]\n"
     ]
    },
    {
     "name": "stdout",
     "output_type": "stream",
     "text": [
      "\tTrain Loss: 0.615\tTrain Acc: 24.98%\n",
      "\tValid Loss: 0.630\tValid Acc: 26.74%\n",
      "\tModel parameters saved to unig-f50.pt\n"
     ]
    },
    {
     "name": "stderr",
     "output_type": "stream",
     "text": [
      "Epoch 07: 100%|██████████| 95/95 [00:04<00:00, 22.64it/s, Loss=0.568, Acc=0.245]\n"
     ]
    },
    {
     "name": "stdout",
     "output_type": "stream",
     "text": [
      "\tTrain Loss: 0.582\tTrain Acc: 25.15%\n",
      "\tValid Loss: 0.610\tValid Acc: 26.23%\n",
      "\tModel parameters saved to unig-f50.pt\n"
     ]
    },
    {
     "name": "stderr",
     "output_type": "stream",
     "text": [
      "Epoch 08: 100%|██████████| 95/95 [00:04<00:00, 21.93it/s, Loss=0.54, Acc=0.27]  \n"
     ]
    },
    {
     "name": "stdout",
     "output_type": "stream",
     "text": [
      "\tTrain Loss: 0.555\tTrain Acc: 25.58%\n",
      "\tValid Loss: 0.594\tValid Acc: 27.43%\n",
      "\tModel parameters saved to unig-f50.pt\n"
     ]
    },
    {
     "name": "stderr",
     "output_type": "stream",
     "text": [
      "Epoch 09: 100%|██████████| 95/95 [00:04<00:00, 22.84it/s, Loss=0.467, Acc=0.26] \n"
     ]
    },
    {
     "name": "stdout",
     "output_type": "stream",
     "text": [
      "\tTrain Loss: 0.532\tTrain Acc: 25.83%\n",
      "\tValid Loss: 0.581\tValid Acc: 26.88%\n",
      "\tModel parameters saved to unig-f50.pt\n"
     ]
    },
    {
     "name": "stderr",
     "output_type": "stream",
     "text": [
      "Epoch 10: 100%|██████████| 95/95 [00:04<00:00, 21.33it/s, Loss=0.519, Acc=0.234]\n"
     ]
    },
    {
     "name": "stdout",
     "output_type": "stream",
     "text": [
      "\tTrain Loss: 0.510\tTrain Acc: 25.95%\n",
      "\tValid Loss: 0.575\tValid Acc: 27.70%\n",
      "\tModel parameters saved to unig-f50.pt\n"
     ]
    },
    {
     "name": "stderr",
     "output_type": "stream",
     "text": [
      "Epoch 11: 100%|██████████| 95/95 [00:04<00:00, 21.17it/s, Loss=0.52, Acc=0.311] \n"
     ]
    },
    {
     "name": "stdout",
     "output_type": "stream",
     "text": [
      "\tTrain Loss: 0.491\tTrain Acc: 26.37%\n",
      "\tValid Loss: 0.566\tValid Acc: 27.43%\n",
      "\tModel parameters saved to unig-f50.pt\n"
     ]
    },
    {
     "name": "stderr",
     "output_type": "stream",
     "text": [
      "Epoch 12: 100%|██████████| 95/95 [00:04<00:00, 21.98it/s, Loss=0.454, Acc=0.265]\n"
     ]
    },
    {
     "name": "stdout",
     "output_type": "stream",
     "text": [
      "\tTrain Loss: 0.475\tTrain Acc: 26.36%\n",
      "\tValid Loss: 0.562\tValid Acc: 28.94%\n",
      "\tModel parameters saved to unig-f50.pt\n"
     ]
    },
    {
     "name": "stderr",
     "output_type": "stream",
     "text": [
      "Epoch 13: 100%|██████████| 95/95 [00:04<00:00, 22.49it/s, Loss=0.507, Acc=0.267]\n"
     ]
    },
    {
     "name": "stdout",
     "output_type": "stream",
     "text": [
      "\tTrain Loss: 0.460\tTrain Acc: 26.55%\n",
      "\tValid Loss: 0.558\tValid Acc: 27.98%\n",
      "\tModel parameters saved to unig-f50.pt\n"
     ]
    },
    {
     "name": "stderr",
     "output_type": "stream",
     "text": [
      "Epoch 14: 100%|██████████| 95/95 [00:04<00:00, 22.22it/s, Loss=0.449, Acc=0.243]\n"
     ]
    },
    {
     "name": "stdout",
     "output_type": "stream",
     "text": [
      "\tTrain Loss: 0.448\tTrain Acc: 26.78%\n",
      "\tValid Loss: 0.555\tValid Acc: 28.78%\n",
      "\tModel parameters saved to unig-f50.pt\n"
     ]
    },
    {
     "name": "stderr",
     "output_type": "stream",
     "text": [
      "Epoch 15: 100%|██████████| 95/95 [00:04<00:00, 22.12it/s, Loss=0.464, Acc=0.226]\n"
     ]
    },
    {
     "name": "stdout",
     "output_type": "stream",
     "text": [
      "\tTrain Loss: 0.435\tTrain Acc: 27.01%\n",
      "\tValid Loss: 0.557\tValid Acc: 28.89%\n"
     ]
    },
    {
     "name": "stderr",
     "output_type": "stream",
     "text": [
      "Epoch 16: 100%|██████████| 95/95 [00:04<00:00, 22.42it/s, Loss=0.409, Acc=0.26] \n"
     ]
    },
    {
     "name": "stdout",
     "output_type": "stream",
     "text": [
      "\tTrain Loss: 0.426\tTrain Acc: 27.04%\n",
      "\tValid Loss: 0.551\tValid Acc: 28.98%\n",
      "\tModel parameters saved to unig-f50.pt\n"
     ]
    },
    {
     "name": "stderr",
     "output_type": "stream",
     "text": [
      "Epoch 17: 100%|██████████| 95/95 [00:04<00:00, 22.61it/s, Loss=0.392, Acc=0.25] \n"
     ]
    },
    {
     "name": "stdout",
     "output_type": "stream",
     "text": [
      "\tTrain Loss: 0.417\tTrain Acc: 27.12%\n",
      "\tValid Loss: 0.554\tValid Acc: 29.16%\n"
     ]
    },
    {
     "name": "stderr",
     "output_type": "stream",
     "text": [
      "Epoch 18: 100%|██████████| 95/95 [00:04<00:00, 22.39it/s, Loss=0.409, Acc=0.313]\n"
     ]
    },
    {
     "name": "stdout",
     "output_type": "stream",
     "text": [
      "\tTrain Loss: 0.409\tTrain Acc: 26.89%\n",
      "\tValid Loss: 0.555\tValid Acc: 28.83%\n"
     ]
    },
    {
     "name": "stderr",
     "output_type": "stream",
     "text": [
      "Epoch 19: 100%|██████████| 95/95 [00:04<00:00, 21.74it/s, Loss=0.377, Acc=0.3]  \n"
     ]
    },
    {
     "name": "stdout",
     "output_type": "stream",
     "text": [
      "\tTrain Loss: 0.399\tTrain Acc: 27.40%\n",
      "\tValid Loss: 0.554\tValid Acc: 28.82%\n"
     ]
    },
    {
     "name": "stderr",
     "output_type": "stream",
     "text": [
      "Epoch 20: 100%|██████████| 95/95 [00:04<00:00, 22.07it/s, Loss=0.385, Acc=0.273]\n"
     ]
    },
    {
     "name": "stdout",
     "output_type": "stream",
     "text": [
      "\tTrain Loss: 0.391\tTrain Acc: 27.29%\n",
      "\tValid Loss: 0.556\tValid Acc: 28.29%\n"
     ]
    },
    {
     "name": "stderr",
     "output_type": "stream",
     "text": [
      "Epoch 21: 100%|██████████| 95/95 [00:04<00:00, 21.57it/s, Loss=0.412, Acc=0.251]\n"
     ]
    },
    {
     "name": "stdout",
     "output_type": "stream",
     "text": [
      "\tTrain Loss: 0.385\tTrain Acc: 27.44%\n",
      "\tValid Loss: 0.557\tValid Acc: 28.91%\n"
     ]
    },
    {
     "name": "stderr",
     "output_type": "stream",
     "text": [
      "Epoch 22: 100%|██████████| 95/95 [00:04<00:00, 23.18it/s, Loss=0.386, Acc=0.256]\n"
     ]
    },
    {
     "name": "stdout",
     "output_type": "stream",
     "text": [
      "\tTrain Loss: 0.376\tTrain Acc: 27.26%\n",
      "\tValid Loss: 0.560\tValid Acc: 28.60%\n"
     ]
    },
    {
     "name": "stderr",
     "output_type": "stream",
     "text": [
      "Epoch 23: 100%|██████████| 95/95 [00:04<00:00, 22.82it/s, Loss=0.392, Acc=0.26] \n"
     ]
    },
    {
     "name": "stdout",
     "output_type": "stream",
     "text": [
      "\tTrain Loss: 0.371\tTrain Acc: 27.51%\n",
      "\tValid Loss: 0.561\tValid Acc: 29.37%\n"
     ]
    },
    {
     "name": "stderr",
     "output_type": "stream",
     "text": [
      "Epoch 24: 100%|██████████| 95/95 [00:04<00:00, 20.95it/s, Loss=0.363, Acc=0.25] \n"
     ]
    },
    {
     "name": "stdout",
     "output_type": "stream",
     "text": [
      "\tTrain Loss: 0.364\tTrain Acc: 27.69%\n",
      "\tValid Loss: 0.563\tValid Acc: 28.98%\n"
     ]
    },
    {
     "name": "stderr",
     "output_type": "stream",
     "text": [
      "Epoch 25: 100%|██████████| 95/95 [00:04<00:00, 22.41it/s, Loss=0.349, Acc=0.305]\n"
     ]
    },
    {
     "name": "stdout",
     "output_type": "stream",
     "text": [
      "\tTrain Loss: 0.359\tTrain Acc: 27.51%\n",
      "\tValid Loss: 0.571\tValid Acc: 29.11%\n"
     ]
    },
    {
     "name": "stderr",
     "output_type": "stream",
     "text": [
      "Epoch 26: 100%|██████████| 95/95 [00:04<00:00, 21.81it/s, Loss=0.356, Acc=0.301]\n"
     ]
    },
    {
     "name": "stdout",
     "output_type": "stream",
     "text": [
      "\tTrain Loss: 0.353\tTrain Acc: 27.86%\n",
      "\tValid Loss: 0.569\tValid Acc: 28.94%\n"
     ]
    },
    {
     "name": "stderr",
     "output_type": "stream",
     "text": [
      "Epoch 27: 100%|██████████| 95/95 [00:04<00:00, 23.28it/s, Loss=0.343, Acc=0.273]\n"
     ]
    },
    {
     "name": "stdout",
     "output_type": "stream",
     "text": [
      "\tTrain Loss: 0.347\tTrain Acc: 27.83%\n",
      "\tValid Loss: 0.574\tValid Acc: 28.18%\n"
     ]
    },
    {
     "name": "stderr",
     "output_type": "stream",
     "text": [
      "Epoch 28: 100%|██████████| 95/95 [00:04<00:00, 21.62it/s, Loss=0.329, Acc=0.248]\n"
     ]
    },
    {
     "name": "stdout",
     "output_type": "stream",
     "text": [
      "\tTrain Loss: 0.343\tTrain Acc: 27.89%\n",
      "\tValid Loss: 0.578\tValid Acc: 28.43%\n"
     ]
    },
    {
     "name": "stderr",
     "output_type": "stream",
     "text": [
      "Epoch 29: 100%|██████████| 95/95 [00:04<00:00, 22.56it/s, Loss=0.346, Acc=0.267]\n"
     ]
    },
    {
     "name": "stdout",
     "output_type": "stream",
     "text": [
      "\tTrain Loss: 0.337\tTrain Acc: 27.91%\n",
      "\tValid Loss: 0.577\tValid Acc: 29.56%\n"
     ]
    },
    {
     "name": "stderr",
     "output_type": "stream",
     "text": [
      "Epoch 30: 100%|██████████| 95/95 [00:04<00:00, 22.90it/s, Loss=0.331, Acc=0.265]\n"
     ]
    },
    {
     "name": "stdout",
     "output_type": "stream",
     "text": [
      "\tTrain Loss: 0.334\tTrain Acc: 28.13%\n",
      "\tValid Loss: 0.583\tValid Acc: 29.41%\n"
     ]
    }
   ],
   "source": [
    "learner.train(epochs=EPOCHS, filename=unig_filename.format(int_f))"
   ]
  },
  {
   "cell_type": "code",
   "execution_count": 21,
   "metadata": {},
   "outputs": [
    {
     "name": "stdout",
     "output_type": "stream",
     "text": [
      "\t Test Loss: 0.537\t Test Acc: 28.64%\n"
     ]
    }
   ],
   "source": [
    "learner.load_model_params(unig_filename.format(int_f))\n",
    "learner.print_test_results()"
   ]
  },
  {
   "cell_type": "markdown",
   "metadata": {},
   "source": [
    "### f = 0.75"
   ]
  },
  {
   "cell_type": "code",
   "execution_count": 22,
   "metadata": {
    "scrolled": true
   },
   "outputs": [],
   "source": [
    "f = 0.75\n",
    "int_f = int(f * 100)\n",
    "set_sample_pow(f)\n",
    "learner = get_learner()"
   ]
  },
  {
   "cell_type": "code",
   "execution_count": 23,
   "metadata": {},
   "outputs": [
    {
     "name": "stderr",
     "output_type": "stream",
     "text": [
      "Epoch 01: 100%|██████████| 95/95 [00:05<00:00, 18.33it/s, Loss=1.16, Acc=0.109] \n"
     ]
    },
    {
     "name": "stdout",
     "output_type": "stream",
     "text": [
      "\tTrain Loss: 1.265\tTrain Acc: 10.36%\n",
      "\tValid Loss: 1.174\tValid Acc: 11.94%\n",
      "\tModel parameters saved to unig-f75.pt\n"
     ]
    },
    {
     "name": "stderr",
     "output_type": "stream",
     "text": [
      "Epoch 02: 100%|██████████| 95/95 [00:05<00:00, 18.36it/s, Loss=0.956, Acc=0.255]\n"
     ]
    },
    {
     "name": "stdout",
     "output_type": "stream",
     "text": [
      "\tTrain Loss: 1.057\tTrain Acc: 20.77%\n",
      "\tValid Loss: 0.949\tValid Acc: 23.00%\n",
      "\tModel parameters saved to unig-f75.pt\n"
     ]
    },
    {
     "name": "stderr",
     "output_type": "stream",
     "text": [
      "Epoch 03: 100%|██████████| 95/95 [00:05<00:00, 18.43it/s, Loss=0.746, Acc=0.256]\n"
     ]
    },
    {
     "name": "stdout",
     "output_type": "stream",
     "text": [
      "\tTrain Loss: 0.857\tTrain Acc: 23.01%\n",
      "\tValid Loss: 0.776\tValid Acc: 23.99%\n",
      "\tModel parameters saved to unig-f75.pt\n"
     ]
    },
    {
     "name": "stderr",
     "output_type": "stream",
     "text": [
      "Epoch 04: 100%|██████████| 95/95 [00:05<00:00, 17.41it/s, Loss=0.668, Acc=0.273]\n"
     ]
    },
    {
     "name": "stdout",
     "output_type": "stream",
     "text": [
      "\tTrain Loss: 0.725\tTrain Acc: 24.26%\n",
      "\tValid Loss: 0.696\tValid Acc: 26.48%\n",
      "\tModel parameters saved to unig-f75.pt\n"
     ]
    },
    {
     "name": "stderr",
     "output_type": "stream",
     "text": [
      "Epoch 05: 100%|██████████| 95/95 [00:05<00:00, 17.59it/s, Loss=0.602, Acc=0.273]\n"
     ]
    },
    {
     "name": "stdout",
     "output_type": "stream",
     "text": [
      "\tTrain Loss: 0.654\tTrain Acc: 24.59%\n",
      "\tValid Loss: 0.649\tValid Acc: 26.67%\n",
      "\tModel parameters saved to unig-f75.pt\n"
     ]
    },
    {
     "name": "stderr",
     "output_type": "stream",
     "text": [
      "Epoch 06: 100%|██████████| 95/95 [00:05<00:00, 18.15it/s, Loss=0.627, Acc=0.241]\n"
     ]
    },
    {
     "name": "stdout",
     "output_type": "stream",
     "text": [
      "\tTrain Loss: 0.608\tTrain Acc: 25.06%\n",
      "\tValid Loss: 0.630\tValid Acc: 27.23%\n",
      "\tModel parameters saved to unig-f75.pt\n"
     ]
    },
    {
     "name": "stderr",
     "output_type": "stream",
     "text": [
      "Epoch 07: 100%|██████████| 95/95 [00:05<00:00, 17.44it/s, Loss=0.582, Acc=0.249]\n"
     ]
    },
    {
     "name": "stdout",
     "output_type": "stream",
     "text": [
      "\tTrain Loss: 0.573\tTrain Acc: 24.89%\n",
      "\tValid Loss: 0.611\tValid Acc: 27.10%\n",
      "\tModel parameters saved to unig-f75.pt\n"
     ]
    },
    {
     "name": "stderr",
     "output_type": "stream",
     "text": [
      "Epoch 08: 100%|██████████| 95/95 [00:05<00:00, 18.68it/s, Loss=0.521, Acc=0.248]\n"
     ]
    },
    {
     "name": "stdout",
     "output_type": "stream",
     "text": [
      "\tTrain Loss: 0.549\tTrain Acc: 25.21%\n",
      "\tValid Loss: 0.597\tValid Acc: 27.12%\n",
      "\tModel parameters saved to unig-f75.pt\n"
     ]
    },
    {
     "name": "stderr",
     "output_type": "stream",
     "text": [
      "Epoch 09: 100%|██████████| 95/95 [00:05<00:00, 18.08it/s, Loss=0.529, Acc=0.252]\n"
     ]
    },
    {
     "name": "stdout",
     "output_type": "stream",
     "text": [
      "\tTrain Loss: 0.530\tTrain Acc: 24.90%\n",
      "\tValid Loss: 0.595\tValid Acc: 27.30%\n",
      "\tModel parameters saved to unig-f75.pt\n"
     ]
    },
    {
     "name": "stderr",
     "output_type": "stream",
     "text": [
      "Epoch 10: 100%|██████████| 95/95 [00:05<00:00, 18.57it/s, Loss=0.517, Acc=0.26] \n"
     ]
    },
    {
     "name": "stdout",
     "output_type": "stream",
     "text": [
      "\tTrain Loss: 0.513\tTrain Acc: 25.29%\n",
      "\tValid Loss: 0.590\tValid Acc: 27.33%\n",
      "\tModel parameters saved to unig-f75.pt\n"
     ]
    },
    {
     "name": "stderr",
     "output_type": "stream",
     "text": [
      "Epoch 11: 100%|██████████| 95/95 [00:05<00:00, 18.51it/s, Loss=0.534, Acc=0.239]\n"
     ]
    },
    {
     "name": "stdout",
     "output_type": "stream",
     "text": [
      "\tTrain Loss: 0.500\tTrain Acc: 24.91%\n",
      "\tValid Loss: 0.584\tValid Acc: 27.55%\n",
      "\tModel parameters saved to unig-f75.pt\n"
     ]
    },
    {
     "name": "stderr",
     "output_type": "stream",
     "text": [
      "Epoch 12: 100%|██████████| 95/95 [00:05<00:00, 18.36it/s, Loss=0.558, Acc=0.198]\n"
     ]
    },
    {
     "name": "stdout",
     "output_type": "stream",
     "text": [
      "\tTrain Loss: 0.488\tTrain Acc: 25.17%\n",
      "\tValid Loss: 0.581\tValid Acc: 27.17%\n",
      "\tModel parameters saved to unig-f75.pt\n"
     ]
    },
    {
     "name": "stderr",
     "output_type": "stream",
     "text": [
      "Epoch 13: 100%|██████████| 95/95 [00:05<00:00, 18.30it/s, Loss=0.484, Acc=0.254]\n"
     ]
    },
    {
     "name": "stdout",
     "output_type": "stream",
     "text": [
      "\tTrain Loss: 0.476\tTrain Acc: 25.42%\n",
      "\tValid Loss: 0.581\tValid Acc: 27.86%\n",
      "\tModel parameters saved to unig-f75.pt\n"
     ]
    },
    {
     "name": "stderr",
     "output_type": "stream",
     "text": [
      "Epoch 14: 100%|██████████| 95/95 [00:05<00:00, 18.63it/s, Loss=0.453, Acc=0.246]\n"
     ]
    },
    {
     "name": "stdout",
     "output_type": "stream",
     "text": [
      "\tTrain Loss: 0.465\tTrain Acc: 25.62%\n",
      "\tValid Loss: 0.580\tValid Acc: 28.11%\n",
      "\tModel parameters saved to unig-f75.pt\n"
     ]
    },
    {
     "name": "stderr",
     "output_type": "stream",
     "text": [
      "Epoch 15: 100%|██████████| 95/95 [00:05<00:00, 17.22it/s, Loss=0.429, Acc=0.279]\n"
     ]
    },
    {
     "name": "stdout",
     "output_type": "stream",
     "text": [
      "\tTrain Loss: 0.456\tTrain Acc: 25.42%\n",
      "\tValid Loss: 0.583\tValid Acc: 27.45%\n"
     ]
    },
    {
     "name": "stderr",
     "output_type": "stream",
     "text": [
      "Epoch 16: 100%|██████████| 95/95 [00:05<00:00, 18.34it/s, Loss=0.466, Acc=0.283]\n"
     ]
    },
    {
     "name": "stdout",
     "output_type": "stream",
     "text": [
      "\tTrain Loss: 0.447\tTrain Acc: 25.35%\n",
      "\tValid Loss: 0.578\tValid Acc: 27.87%\n",
      "\tModel parameters saved to unig-f75.pt\n"
     ]
    },
    {
     "name": "stderr",
     "output_type": "stream",
     "text": [
      "Epoch 17: 100%|██████████| 95/95 [00:05<00:00, 18.29it/s, Loss=0.42, Acc=0.265] \n"
     ]
    },
    {
     "name": "stdout",
     "output_type": "stream",
     "text": [
      "\tTrain Loss: 0.439\tTrain Acc: 25.30%\n",
      "\tValid Loss: 0.585\tValid Acc: 27.06%\n"
     ]
    },
    {
     "name": "stderr",
     "output_type": "stream",
     "text": [
      "Epoch 18: 100%|██████████| 95/95 [00:05<00:00, 18.47it/s, Loss=0.489, Acc=0.233]\n"
     ]
    },
    {
     "name": "stdout",
     "output_type": "stream",
     "text": [
      "\tTrain Loss: 0.432\tTrain Acc: 25.46%\n",
      "\tValid Loss: 0.588\tValid Acc: 27.86%\n"
     ]
    },
    {
     "name": "stderr",
     "output_type": "stream",
     "text": [
      "Epoch 19: 100%|██████████| 95/95 [00:05<00:00, 18.59it/s, Loss=0.386, Acc=0.248]\n"
     ]
    },
    {
     "name": "stdout",
     "output_type": "stream",
     "text": [
      "\tTrain Loss: 0.423\tTrain Acc: 25.27%\n",
      "\tValid Loss: 0.589\tValid Acc: 27.37%\n"
     ]
    },
    {
     "name": "stderr",
     "output_type": "stream",
     "text": [
      "Epoch 20: 100%|██████████| 95/95 [00:05<00:00, 18.14it/s, Loss=0.468, Acc=0.224]\n"
     ]
    },
    {
     "name": "stdout",
     "output_type": "stream",
     "text": [
      "\tTrain Loss: 0.418\tTrain Acc: 25.42%\n",
      "\tValid Loss: 0.587\tValid Acc: 26.74%\n"
     ]
    },
    {
     "name": "stderr",
     "output_type": "stream",
     "text": [
      "Epoch 21: 100%|██████████| 95/95 [00:05<00:00, 18.17it/s, Loss=0.393, Acc=0.249]\n"
     ]
    },
    {
     "name": "stdout",
     "output_type": "stream",
     "text": [
      "\tTrain Loss: 0.410\tTrain Acc: 25.84%\n",
      "\tValid Loss: 0.584\tValid Acc: 27.17%\n"
     ]
    },
    {
     "name": "stderr",
     "output_type": "stream",
     "text": [
      "Epoch 22: 100%|██████████| 95/95 [00:05<00:00, 17.58it/s, Loss=0.422, Acc=0.248]\n"
     ]
    },
    {
     "name": "stdout",
     "output_type": "stream",
     "text": [
      "\tTrain Loss: 0.404\tTrain Acc: 25.68%\n",
      "\tValid Loss: 0.591\tValid Acc: 26.97%\n"
     ]
    },
    {
     "name": "stderr",
     "output_type": "stream",
     "text": [
      "Epoch 23: 100%|██████████| 95/95 [00:05<00:00, 18.41it/s, Loss=0.365, Acc=0.258]\n"
     ]
    },
    {
     "name": "stdout",
     "output_type": "stream",
     "text": [
      "\tTrain Loss: 0.397\tTrain Acc: 25.93%\n",
      "\tValid Loss: 0.591\tValid Acc: 26.87%\n"
     ]
    },
    {
     "name": "stderr",
     "output_type": "stream",
     "text": [
      "Epoch 24: 100%|██████████| 95/95 [00:05<00:00, 18.43it/s, Loss=0.389, Acc=0.294]\n"
     ]
    },
    {
     "name": "stdout",
     "output_type": "stream",
     "text": [
      "\tTrain Loss: 0.392\tTrain Acc: 26.03%\n",
      "\tValid Loss: 0.594\tValid Acc: 27.45%\n"
     ]
    },
    {
     "name": "stderr",
     "output_type": "stream",
     "text": [
      "Epoch 25: 100%|██████████| 95/95 [00:05<00:00, 18.84it/s, Loss=0.412, Acc=0.251]\n"
     ]
    },
    {
     "name": "stdout",
     "output_type": "stream",
     "text": [
      "\tTrain Loss: 0.388\tTrain Acc: 26.07%\n",
      "\tValid Loss: 0.601\tValid Acc: 27.15%\n"
     ]
    },
    {
     "name": "stderr",
     "output_type": "stream",
     "text": [
      "Epoch 26: 100%|██████████| 95/95 [00:05<00:00, 17.91it/s, Loss=0.398, Acc=0.284]\n"
     ]
    },
    {
     "name": "stdout",
     "output_type": "stream",
     "text": [
      "\tTrain Loss: 0.382\tTrain Acc: 25.91%\n",
      "\tValid Loss: 0.600\tValid Acc: 27.03%\n"
     ]
    },
    {
     "name": "stderr",
     "output_type": "stream",
     "text": [
      "Epoch 27: 100%|██████████| 95/95 [00:05<00:00, 17.81it/s, Loss=0.416, Acc=0.232]\n"
     ]
    },
    {
     "name": "stdout",
     "output_type": "stream",
     "text": [
      "\tTrain Loss: 0.377\tTrain Acc: 26.21%\n",
      "\tValid Loss: 0.606\tValid Acc: 26.68%\n"
     ]
    },
    {
     "name": "stderr",
     "output_type": "stream",
     "text": [
      "Epoch 28: 100%|██████████| 95/95 [00:05<00:00, 18.05it/s, Loss=0.389, Acc=0.231]\n"
     ]
    },
    {
     "name": "stdout",
     "output_type": "stream",
     "text": [
      "\tTrain Loss: 0.372\tTrain Acc: 26.42%\n",
      "\tValid Loss: 0.609\tValid Acc: 26.58%\n"
     ]
    },
    {
     "name": "stderr",
     "output_type": "stream",
     "text": [
      "Epoch 29: 100%|██████████| 95/95 [00:05<00:00, 17.64it/s, Loss=0.378, Acc=0.243]\n"
     ]
    },
    {
     "name": "stdout",
     "output_type": "stream",
     "text": [
      "\tTrain Loss: 0.368\tTrain Acc: 26.41%\n",
      "\tValid Loss: 0.615\tValid Acc: 27.15%\n"
     ]
    },
    {
     "name": "stderr",
     "output_type": "stream",
     "text": [
      "Epoch 30: 100%|██████████| 95/95 [00:05<00:00, 18.56it/s, Loss=0.387, Acc=0.235]\n"
     ]
    },
    {
     "name": "stdout",
     "output_type": "stream",
     "text": [
      "\tTrain Loss: 0.362\tTrain Acc: 26.64%\n",
      "\tValid Loss: 0.618\tValid Acc: 27.62%\n"
     ]
    }
   ],
   "source": [
    "learner.train(epochs=EPOCHS, filename=unig_filename.format(int_f))"
   ]
  },
  {
   "cell_type": "code",
   "execution_count": 24,
   "metadata": {},
   "outputs": [
    {
     "name": "stdout",
     "output_type": "stream",
     "text": [
      "\t Test Loss: 0.566\t Test Acc: 27.92%\n"
     ]
    }
   ],
   "source": [
    "learner.load_model_params(unig_filename.format(int_f))\n",
    "learner.print_test_results()"
   ]
  },
  {
   "cell_type": "markdown",
   "metadata": {},
   "source": [
    "### f = 1.0"
   ]
  },
  {
   "cell_type": "code",
   "execution_count": 25,
   "metadata": {
    "scrolled": true
   },
   "outputs": [],
   "source": [
    "f = 1.0\n",
    "int_f = int(f * 100)\n",
    "set_sample_pow(f)\n",
    "learner = get_learner()"
   ]
  },
  {
   "cell_type": "code",
   "execution_count": 26,
   "metadata": {},
   "outputs": [
    {
     "name": "stderr",
     "output_type": "stream",
     "text": [
      "Epoch 01: 100%|██████████| 95/95 [00:03<00:00, 24.14it/s, Loss=1.12, Acc=0.169] \n"
     ]
    },
    {
     "name": "stdout",
     "output_type": "stream",
     "text": [
      "\tTrain Loss: 1.263\tTrain Acc: 12.33%\n",
      "\tValid Loss: 1.083\tValid Acc: 20.42%\n",
      "\tModel parameters saved to unig-f100.pt\n"
     ]
    },
    {
     "name": "stderr",
     "output_type": "stream",
     "text": [
      "Epoch 02: 100%|██████████| 95/95 [00:04<00:00, 23.40it/s, Loss=0.945, Acc=0.172]\n"
     ]
    },
    {
     "name": "stdout",
     "output_type": "stream",
     "text": [
      "\tTrain Loss: 0.992\tTrain Acc: 16.60%\n",
      "\tValid Loss: 0.907\tValid Acc: 20.05%\n",
      "\tModel parameters saved to unig-f100.pt\n"
     ]
    },
    {
     "name": "stderr",
     "output_type": "stream",
     "text": [
      "Epoch 03: 100%|██████████| 95/95 [00:04<00:00, 22.10it/s, Loss=0.788, Acc=0.215]\n"
     ]
    },
    {
     "name": "stdout",
     "output_type": "stream",
     "text": [
      "\tTrain Loss: 0.847\tTrain Acc: 17.99%\n",
      "\tValid Loss: 0.781\tValid Acc: 20.65%\n",
      "\tModel parameters saved to unig-f100.pt\n"
     ]
    },
    {
     "name": "stderr",
     "output_type": "stream",
     "text": [
      "Epoch 04: 100%|██████████| 95/95 [00:04<00:00, 22.53it/s, Loss=0.671, Acc=0.19] \n"
     ]
    },
    {
     "name": "stdout",
     "output_type": "stream",
     "text": [
      "\tTrain Loss: 0.727\tTrain Acc: 19.77%\n",
      "\tValid Loss: 0.688\tValid Acc: 23.64%\n",
      "\tModel parameters saved to unig-f100.pt\n"
     ]
    },
    {
     "name": "stderr",
     "output_type": "stream",
     "text": [
      "Epoch 05: 100%|██████████| 95/95 [00:04<00:00, 21.88it/s, Loss=0.596, Acc=0.194]\n"
     ]
    },
    {
     "name": "stdout",
     "output_type": "stream",
     "text": [
      "\tTrain Loss: 0.650\tTrain Acc: 20.59%\n",
      "\tValid Loss: 0.642\tValid Acc: 23.83%\n",
      "\tModel parameters saved to unig-f100.pt\n"
     ]
    },
    {
     "name": "stderr",
     "output_type": "stream",
     "text": [
      "Epoch 06: 100%|██████████| 95/95 [00:04<00:00, 22.49it/s, Loss=0.558, Acc=0.202]\n"
     ]
    },
    {
     "name": "stdout",
     "output_type": "stream",
     "text": [
      "\tTrain Loss: 0.606\tTrain Acc: 21.04%\n",
      "\tValid Loss: 0.615\tValid Acc: 22.96%\n",
      "\tModel parameters saved to unig-f100.pt\n"
     ]
    },
    {
     "name": "stderr",
     "output_type": "stream",
     "text": [
      "Epoch 07: 100%|██████████| 95/95 [00:03<00:00, 23.79it/s, Loss=0.542, Acc=0.228]\n"
     ]
    },
    {
     "name": "stdout",
     "output_type": "stream",
     "text": [
      "\tTrain Loss: 0.576\tTrain Acc: 21.11%\n",
      "\tValid Loss: 0.601\tValid Acc: 21.87%\n",
      "\tModel parameters saved to unig-f100.pt\n"
     ]
    },
    {
     "name": "stderr",
     "output_type": "stream",
     "text": [
      "Epoch 08: 100%|██████████| 95/95 [00:04<00:00, 22.99it/s, Loss=0.601, Acc=0.227]\n"
     ]
    },
    {
     "name": "stdout",
     "output_type": "stream",
     "text": [
      "\tTrain Loss: 0.554\tTrain Acc: 20.67%\n",
      "\tValid Loss: 0.592\tValid Acc: 22.52%\n",
      "\tModel parameters saved to unig-f100.pt\n"
     ]
    },
    {
     "name": "stderr",
     "output_type": "stream",
     "text": [
      "Epoch 09: 100%|██████████| 95/95 [00:04<00:00, 23.19it/s, Loss=0.479, Acc=0.259]\n"
     ]
    },
    {
     "name": "stdout",
     "output_type": "stream",
     "text": [
      "\tTrain Loss: 0.536\tTrain Acc: 20.64%\n",
      "\tValid Loss: 0.582\tValid Acc: 22.02%\n",
      "\tModel parameters saved to unig-f100.pt\n"
     ]
    },
    {
     "name": "stderr",
     "output_type": "stream",
     "text": [
      "Epoch 10: 100%|██████████| 95/95 [00:04<00:00, 22.82it/s, Loss=0.509, Acc=0.216]\n"
     ]
    },
    {
     "name": "stdout",
     "output_type": "stream",
     "text": [
      "\tTrain Loss: 0.519\tTrain Acc: 20.73%\n",
      "\tValid Loss: 0.578\tValid Acc: 23.94%\n",
      "\tModel parameters saved to unig-f100.pt\n"
     ]
    },
    {
     "name": "stderr",
     "output_type": "stream",
     "text": [
      "Epoch 11: 100%|██████████| 95/95 [00:04<00:00, 22.53it/s, Loss=0.499, Acc=0.184]\n"
     ]
    },
    {
     "name": "stdout",
     "output_type": "stream",
     "text": [
      "\tTrain Loss: 0.505\tTrain Acc: 20.68%\n",
      "\tValid Loss: 0.571\tValid Acc: 23.01%\n",
      "\tModel parameters saved to unig-f100.pt\n"
     ]
    },
    {
     "name": "stderr",
     "output_type": "stream",
     "text": [
      "Epoch 12: 100%|██████████| 95/95 [00:04<00:00, 23.63it/s, Loss=0.484, Acc=0.223]\n"
     ]
    },
    {
     "name": "stdout",
     "output_type": "stream",
     "text": [
      "\tTrain Loss: 0.492\tTrain Acc: 21.07%\n",
      "\tValid Loss: 0.566\tValid Acc: 22.07%\n",
      "\tModel parameters saved to unig-f100.pt\n"
     ]
    },
    {
     "name": "stderr",
     "output_type": "stream",
     "text": [
      "Epoch 13: 100%|██████████| 95/95 [00:04<00:00, 20.42it/s, Loss=0.502, Acc=0.264]\n"
     ]
    },
    {
     "name": "stdout",
     "output_type": "stream",
     "text": [
      "\tTrain Loss: 0.481\tTrain Acc: 20.54%\n",
      "\tValid Loss: 0.561\tValid Acc: 21.88%\n",
      "\tModel parameters saved to unig-f100.pt\n"
     ]
    },
    {
     "name": "stderr",
     "output_type": "stream",
     "text": [
      "Epoch 14: 100%|██████████| 95/95 [00:04<00:00, 23.21it/s, Loss=0.462, Acc=0.216]\n"
     ]
    },
    {
     "name": "stdout",
     "output_type": "stream",
     "text": [
      "\tTrain Loss: 0.471\tTrain Acc: 20.89%\n",
      "\tValid Loss: 0.560\tValid Acc: 21.15%\n",
      "\tModel parameters saved to unig-f100.pt\n"
     ]
    },
    {
     "name": "stderr",
     "output_type": "stream",
     "text": [
      "Epoch 15: 100%|██████████| 95/95 [00:04<00:00, 22.10it/s, Loss=0.447, Acc=0.192]\n"
     ]
    },
    {
     "name": "stdout",
     "output_type": "stream",
     "text": [
      "\tTrain Loss: 0.461\tTrain Acc: 20.89%\n",
      "\tValid Loss: 0.562\tValid Acc: 21.45%\n"
     ]
    },
    {
     "name": "stderr",
     "output_type": "stream",
     "text": [
      "Epoch 16: 100%|██████████| 95/95 [00:04<00:00, 23.12it/s, Loss=0.446, Acc=0.216]\n"
     ]
    },
    {
     "name": "stdout",
     "output_type": "stream",
     "text": [
      "\tTrain Loss: 0.451\tTrain Acc: 20.97%\n",
      "\tValid Loss: 0.561\tValid Acc: 21.42%\n"
     ]
    },
    {
     "name": "stderr",
     "output_type": "stream",
     "text": [
      "Epoch 17: 100%|██████████| 95/95 [00:04<00:00, 21.72it/s, Loss=0.444, Acc=0.196]\n"
     ]
    },
    {
     "name": "stdout",
     "output_type": "stream",
     "text": [
      "\tTrain Loss: 0.444\tTrain Acc: 21.02%\n",
      "\tValid Loss: 0.559\tValid Acc: 23.01%\n",
      "\tModel parameters saved to unig-f100.pt\n"
     ]
    },
    {
     "name": "stderr",
     "output_type": "stream",
     "text": [
      "Epoch 18: 100%|██████████| 95/95 [00:04<00:00, 23.56it/s, Loss=0.509, Acc=0.183]\n"
     ]
    },
    {
     "name": "stdout",
     "output_type": "stream",
     "text": [
      "\tTrain Loss: 0.435\tTrain Acc: 20.83%\n",
      "\tValid Loss: 0.563\tValid Acc: 21.36%\n"
     ]
    },
    {
     "name": "stderr",
     "output_type": "stream",
     "text": [
      "Epoch 19: 100%|██████████| 95/95 [00:03<00:00, 23.82it/s, Loss=0.498, Acc=0.189]\n"
     ]
    },
    {
     "name": "stdout",
     "output_type": "stream",
     "text": [
      "\tTrain Loss: 0.428\tTrain Acc: 21.11%\n",
      "\tValid Loss: 0.563\tValid Acc: 21.48%\n"
     ]
    },
    {
     "name": "stderr",
     "output_type": "stream",
     "text": [
      "Epoch 20: 100%|██████████| 95/95 [00:04<00:00, 23.25it/s, Loss=0.406, Acc=0.191]\n"
     ]
    },
    {
     "name": "stdout",
     "output_type": "stream",
     "text": [
      "\tTrain Loss: 0.421\tTrain Acc: 20.97%\n",
      "\tValid Loss: 0.562\tValid Acc: 21.62%\n"
     ]
    },
    {
     "name": "stderr",
     "output_type": "stream",
     "text": [
      "Epoch 21: 100%|██████████| 95/95 [00:03<00:00, 23.75it/s, Loss=0.456, Acc=0.211]\n"
     ]
    },
    {
     "name": "stdout",
     "output_type": "stream",
     "text": [
      "\tTrain Loss: 0.414\tTrain Acc: 21.30%\n",
      "\tValid Loss: 0.564\tValid Acc: 21.28%\n"
     ]
    },
    {
     "name": "stderr",
     "output_type": "stream",
     "text": [
      "Epoch 22: 100%|██████████| 95/95 [00:04<00:00, 21.97it/s, Loss=0.372, Acc=0.194]\n"
     ]
    },
    {
     "name": "stdout",
     "output_type": "stream",
     "text": [
      "\tTrain Loss: 0.408\tTrain Acc: 21.44%\n",
      "\tValid Loss: 0.563\tValid Acc: 20.57%\n"
     ]
    },
    {
     "name": "stderr",
     "output_type": "stream",
     "text": [
      "Epoch 23: 100%|██████████| 95/95 [00:04<00:00, 23.11it/s, Loss=0.415, Acc=0.226]\n"
     ]
    },
    {
     "name": "stdout",
     "output_type": "stream",
     "text": [
      "\tTrain Loss: 0.400\tTrain Acc: 21.44%\n",
      "\tValid Loss: 0.569\tValid Acc: 21.19%\n"
     ]
    },
    {
     "name": "stderr",
     "output_type": "stream",
     "text": [
      "Epoch 24: 100%|██████████| 95/95 [00:04<00:00, 22.18it/s, Loss=0.396, Acc=0.209]\n"
     ]
    },
    {
     "name": "stdout",
     "output_type": "stream",
     "text": [
      "\tTrain Loss: 0.397\tTrain Acc: 21.68%\n",
      "\tValid Loss: 0.573\tValid Acc: 21.34%\n"
     ]
    },
    {
     "name": "stderr",
     "output_type": "stream",
     "text": [
      "Epoch 25: 100%|██████████| 95/95 [00:04<00:00, 22.13it/s, Loss=0.361, Acc=0.234]\n"
     ]
    },
    {
     "name": "stdout",
     "output_type": "stream",
     "text": [
      "\tTrain Loss: 0.389\tTrain Acc: 21.57%\n",
      "\tValid Loss: 0.571\tValid Acc: 21.16%\n"
     ]
    },
    {
     "name": "stderr",
     "output_type": "stream",
     "text": [
      "Epoch 26: 100%|██████████| 95/95 [00:04<00:00, 23.39it/s, Loss=0.367, Acc=0.249]\n"
     ]
    },
    {
     "name": "stdout",
     "output_type": "stream",
     "text": [
      "\tTrain Loss: 0.385\tTrain Acc: 21.78%\n",
      "\tValid Loss: 0.579\tValid Acc: 21.57%\n"
     ]
    },
    {
     "name": "stderr",
     "output_type": "stream",
     "text": [
      "Epoch 27: 100%|██████████| 95/95 [00:04<00:00, 22.16it/s, Loss=0.372, Acc=0.212]\n"
     ]
    },
    {
     "name": "stdout",
     "output_type": "stream",
     "text": [
      "\tTrain Loss: 0.380\tTrain Acc: 21.58%\n",
      "\tValid Loss: 0.582\tValid Acc: 21.49%\n"
     ]
    },
    {
     "name": "stderr",
     "output_type": "stream",
     "text": [
      "Epoch 28: 100%|██████████| 95/95 [00:04<00:00, 23.23it/s, Loss=0.395, Acc=0.249]\n"
     ]
    },
    {
     "name": "stdout",
     "output_type": "stream",
     "text": [
      "\tTrain Loss: 0.374\tTrain Acc: 21.85%\n",
      "\tValid Loss: 0.581\tValid Acc: 21.84%\n"
     ]
    },
    {
     "name": "stderr",
     "output_type": "stream",
     "text": [
      "Epoch 29: 100%|██████████| 95/95 [00:03<00:00, 23.75it/s, Loss=0.354, Acc=0.184]\n"
     ]
    },
    {
     "name": "stdout",
     "output_type": "stream",
     "text": [
      "\tTrain Loss: 0.369\tTrain Acc: 22.37%\n",
      "\tValid Loss: 0.588\tValid Acc: 21.47%\n"
     ]
    },
    {
     "name": "stderr",
     "output_type": "stream",
     "text": [
      "Epoch 30: 100%|██████████| 95/95 [00:04<00:00, 23.66it/s, Loss=0.375, Acc=0.218]\n"
     ]
    },
    {
     "name": "stdout",
     "output_type": "stream",
     "text": [
      "\tTrain Loss: 0.364\tTrain Acc: 22.18%\n",
      "\tValid Loss: 0.589\tValid Acc: 21.16%\n"
     ]
    }
   ],
   "source": [
    "learner.train(epochs=EPOCHS, filename=unig_filename.format(int_f))"
   ]
  },
  {
   "cell_type": "code",
   "execution_count": 27,
   "metadata": {},
   "outputs": [
    {
     "name": "stdout",
     "output_type": "stream",
     "text": [
      "\t Test Loss: 0.552\t Test Acc: 22.61%\n"
     ]
    }
   ],
   "source": [
    "learner.load_model_params(unig_filename.format(int_f))\n",
    "learner.print_test_results()"
   ]
  },
  {
   "cell_type": "code",
   "execution_count": null,
   "metadata": {},
   "outputs": [],
   "source": []
  }
 ],
 "metadata": {
  "kernelspec": {
   "display_name": "Python 3",
   "language": "python",
   "name": "python3"
  },
  "language_info": {
   "codemirror_mode": {
    "name": "ipython",
    "version": 3
   },
   "file_extension": ".py",
   "mimetype": "text/x-python",
   "name": "python",
   "nbconvert_exporter": "python",
   "pygments_lexer": "ipython3",
   "version": "3.6.8"
  }
 },
 "nbformat": 4,
 "nbformat_minor": 4
}
